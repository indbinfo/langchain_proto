{
 "cells": [
  {
   "cell_type": "code",
   "execution_count": 1,
   "metadata": {},
   "outputs": [
    {
     "data": {
      "text/plain": [
       "True"
      ]
     },
     "execution_count": 1,
     "metadata": {},
     "output_type": "execute_result"
    }
   ],
   "source": [
    "# API KEY를 환경변수로 관리하기 위한 설정 파일\n",
    "from dotenv import load_dotenv\n",
    "\n",
    "# API KEY 정보로드\n",
    "load_dotenv()"
   ]
  },
  {
   "cell_type": "code",
   "execution_count": 4,
   "metadata": {},
   "outputs": [],
   "source": [
    "from langchain.prompts import PromptTemplate"
   ]
  },
  {
   "cell_type": "code",
   "execution_count": 2,
   "metadata": {},
   "outputs": [],
   "source": [
    "template_text = \"\"\"\n",
    "[Requirements]\n",
    "Text Start에서 Text End까지의 내용을 영어로 번역해줘\n",
    "[Constraints]\n",
    "\n",
    "1.Text Start에서 TextEnd까지의 내용만 번역한다.\n",
    "\n",
    "2.\"\"으로 감싸진 부분은 원본값을 유지한다.\n",
    "\n",
    "3.\"부산 동래구\" 같은 데이터의 값들은 번역을 하지 않고 원본값을 유지한다.\n",
    "\n",
    "4.데이터의 설명중 원본 데이터 관한 내용은 원본값 그대로 유지한다.\n",
    "\n",
    "5.번역의 내용을 절대 축소하지 않고 텍스트 전체의 내용을 번역한다.\n",
    "\n",
    "[[Text Start]\n",
    "[context]\n",
    "본 데이터는 신용카드 데이터이다.\n",
    "데이터에 관한 정보는 아래와 같다.\n",
    "\n",
    " #   Column            Dtype  \n",
    "\n",
    "---  ------            -----\n",
    "\n",
    " 0   store_id          int64  \n",
    " 1   card_id           int64  \n",
    " 2   card_company      object \n",
    " 3   transacted_date   object \n",
    " 4   transacted_time   object \n",
    " 5   installment_term  int64  \n",
    " 6   region            object \n",
    " 7   type_of_business  object \n",
    " 8   amount            float64\n",
    "아래는 각 컬럼의 추가정인 정보이다.\n",
    "날짜 컬럼는 YYYY-MM-DD 형식이다.\n",
    "시간 컬럼는 HH:MM 형식이다.\n",
    "지역 컬럼의 값들은 아래와 같다.\n",
    "array(['부산 동래구', '서울 종로구', '대구 수성구', '경기 용인시', '경기 안양시', '경기 수원시',\n",
    "       '서울 마포구', '부산 부산진구', '서울 중랑구', '서울 용산구', '전남 목포시', '서울 동작구',\n",
    "       '경북 경주시', '인천 계양구', '서울 강서구', '경기 성남시', '서울 영등포구', '서울 서대문구',\n",
    "       '서울 강남구', '서울 은평구', '서울 구로구', '서울 서초구', '서울 중구', '경기 시흥시',\n",
    "       '서울 양천구', '강원 강릉시', '서울 관악구', '인천 남구', '인천 동구', '충북 제천시', '인천 남동구',\n",
    "       '인천 연수구', '인천 부평구', '경기 화성시', '경기 평택시', '경기 안성시', '전남 순천시',\n",
    "       '경기 이천시', '경기 광주시', '경기 의정부시', '경기 포천시', '경기 양주시', '경기 파주시',\n",
    "       '경기 고양시', '서울 송파구', '충북 옥천군', '경기 부천시', '경기 광명시', '경기 남양주시',\n",
    "       '경기 안산시', '경기 오산시', '인천 서구', '경기 과천시', '경남 김해시', '경기 의왕시',\n",
    "       '제주 서귀포시', '전남 여수시', '제주 제주시', '부산 금정구', '경북 구미시', '광주 서구',\n",
    "       '충남 아산시', '부산 강서구', '경남 양산시', '경남 창원시', '강원 양구군', '충북 충주시',\n",
    "       '경남 통영시', '부산 사하구', '대구 남구', '경기 구리시', '강원 태백시', '서울 동대문구',\n",
    "       '충북 청주시', '대구 북구', '서울 성동구', '서울 광진구', '서울 성북구', '서울 강북구',\n",
    "       '서울 노원구', '서울 강동구', '강원 원주시', '서울 금천구', '부산 수영구', '부산 사상구',\n",
    "       '부산 북구', '강원 춘천시', '강원 삼척시', '전북 전주시', '강원 홍천군', '강원 횡성군', '광주 동구',\n",
    "       '강원 속초시', '경기 연천군', '경기 김포시', '부산 중구', '충북 단양군', '대전 서구', '울산 북구',\n",
    "       '경기 군포시', '경기 동두천시', '충남 서산시', '경북 영주시', '부산 남구', '충북 음성군',\n",
    "       '대전 대덕구', '대전 동구', '대전 중구', '충남 공주시', '충남 부여군', '경북 경산시', '충남 홍성군',\n",
    "       '충남 당진시', '충남 천안시', '대구 동구', '충남 보령시', '대전 유성구', '경북 영천시', '울산 남구',\n",
    "       '전남 무안군', '전북 익산시', '전북 군산시', '전북 정읍시', '전북 남원시', '광주 북구', '광주 남구',\n",
    "       '전남 담양군', '전남 함평군', '전남 완도군', '전남 고흥군', '경남 창녕군', '대구 달서구',\n",
    "       '충북 증평군', '부산 영도구', '부산 해운대구', '경남 거제시', '경기 양평군', '전남 나주시',\n",
    "       '대구 중구', '대구 서구', '경북 포항시', '경북 울진군', '경북 안동시', '경북 김천시', '대구 달성군',\n",
    "       '경남 사천시', '경기 하남시', '부산 서구', '부산 기장군', '부산 연제구', '경남 거창군',\n",
    "       '경남 남해군', '경남 진주시', '경남 밀양시', '울산 동구', '울산 중구', '경북 상주시',\n",
    "       '세종 고운서길', '인천 중구', '전남 곡성군', '경북 성주군', '전남 광양시', '세종 조치원읍',\n",
    "       '경기 가평군'], dtype=object)\n",
    "지역 데이터의 추가정인 정보는 문자를 띄어쓰기로 구분 하였을때 \"구\"로 끝나는 단어의 앞의 단어는 본래의 지역명은 시로 끝난다. 예시로 서울시, 부산시 등이 있다. 그에 반해 \"구\"로 끝나는 단어들은 '도' 지역 이름이다. 하지만 주의 해야할 점이 있다. 앞의 단어중 \"세종\"은 뒤에 *구*로 끝나지 않아도 \"세종시\"로 불린다.\n",
    "\n",
    "[coderule]\n",
    "1.모든 코드는 Python으로 작성이 된다.\n",
    "\n",
    "2.그래프 코드에 그래프를 저장하는 코드를 작성한다. 파일 위치는 지금 위치의 'test_graph'폴더에 'png'파일로 저장한다.\n",
    "\n",
    "3.그래프에 대한 간단한 설명을 작성하고 설명을 저장하는 코드를 작성한다. 파일위치는 지금 위치의 'test_text'폴더에 'txt'파일로 저장한다.\n",
    "\n",
    "4.데이터프레임을 생성할 필요는 없다.\n",
    "\n",
    "5.csv파일 이름은 funda_train.csv로 로드한 다음 그 데이터프레임 명은 df 이다.\n",
    "\n",
    "[Task]\n",
    "{question}\n",
    "[Text End]]\n",
    "\"\"\""
   ]
  },
  {
   "cell_type": "code",
   "execution_count": 5,
   "metadata": {},
   "outputs": [],
   "source": [
    "# PromptTemplate 인스턴스를 생성\n",
    "prompt_template = PromptTemplate.from_template(template_text)\n",
    "\n",
    "# 템플릿에 값을 채워서 프롬프트를 완성\n",
    "filled_prompt = prompt_template.format(question=\"부산의 동래구 중 많은 매출을 올린 업종을 막대그래프로 그려 달라\")"
   ]
  },
  {
   "cell_type": "code",
   "execution_count": 11,
   "metadata": {},
   "outputs": [],
   "source": [
    "# 모델의 응답은 프롬프트에 주어진 문장을 영어로 번역한 텍스트가 출력\n",
    "from langchain.chat_models import ChatOpenAI\n",
    "from langchain_core.output_parsers import StrOutputParser\n",
    "\n",
    "llm = ChatOpenAI(model=\"gpt-3.5-turbo-0125\")\n",
    "\n",
    "# 문자열 출력 파서를 초기화합니다.\n",
    "output_parser = StrOutputParser()\n",
    "\n",
    "chain = prompt_template | llm | output_parser\n",
    "result = chain.invoke({\"question\":\"부산의 동래구 중 많은 매출을 올린 업종을 막대그래프로 그려 달라\"})"
   ]
  },
  {
   "cell_type": "code",
   "execution_count": 12,
   "metadata": {},
   "outputs": [
    {
     "name": "stderr",
     "output_type": "stream",
     "text": [
      "/home/langc/.local/lib/python3.11/site-packages/langchain_core/_api/deprecation.py:117: LangChainDeprecationWarning: The function `predict` was deprecated in LangChain 0.1.7 and will be removed in 0.2.0. Use invoke instead.\n",
      "  warn_deprecated(\n"
     ]
    }
   ],
   "source": [
    "result_code = llm.predict(result)"
   ]
  },
  {
   "cell_type": "code",
   "execution_count": 13,
   "metadata": {},
   "outputs": [
    {
     "name": "stdout",
     "output_type": "stream",
     "text": [
      "[Python Code]\n",
      "```python\n",
      "import pandas as pd\n",
      "import matplotlib.pyplot as plt\n",
      "\n",
      "# Load the csv file\n",
      "df = pd.read_csv('fund_train.csv')\n",
      "\n",
      "# Filter data for Dongnae-gu, Busan\n",
      "dongnae_gu_data = df[df['region'] == 'Busan Dongnae-gu']\n",
      "\n",
      "# Group by type of business and sum the amount\n",
      "revenue_by_business = dongnae_gu_data.groupby('type_of_business')['amount'].sum().sort_values(ascending=False)\n",
      "\n",
      "# Create a bar graph\n",
      "plt.figure(figsize=(12, 6))\n",
      "revenue_by_business.plot(kind='bar', color='skyblue')\n",
      "plt.title('Revenue by Industry in Dongnae-gu, Busan')\n",
      "plt.xlabel('Industry')\n",
      "plt.ylabel('Revenue')\n",
      "plt.xticks(rotation=45)\n",
      "plt.tight_layout()\n",
      "\n",
      "# Save the graph as a png file\n",
      "plt.savefig('test_graph/revenue_by_industry_dongnae_gu_busan.png')\n",
      "\n",
      "# Save a brief description of the graph\n",
      "description = \"Bar graph showing the industries that have generated the most revenue in Dongnae-gu, Busan.\"\n",
      "with open('test_text/graph_description.txt', 'w') as file:\n",
      "    file.write(description)\n",
      "```\n",
      "In this code, we first load the 'fund_train.csv' file into a dataframe named 'df'. Then, we filter the data for Dongnae-gu, Busan and group it by the type of business to calculate the total revenue generated by each industry. We then create a bar graph showing the revenue by industry in Dongnae-gu, Busan. The graph is saved as a png file in the 'test_graph' folder, and a brief description of the graph is saved as a txt file in the 'test_text' folder.\n"
     ]
    }
   ],
   "source": [
    "print(result_code)"
   ]
  }
 ],
 "metadata": {
  "kernelspec": {
   "display_name": "Python 3",
   "language": "python",
   "name": "python3"
  },
  "language_info": {
   "codemirror_mode": {
    "name": "ipython",
    "version": 3
   },
   "file_extension": ".py",
   "mimetype": "text/x-python",
   "name": "python",
   "nbconvert_exporter": "python",
   "pygments_lexer": "ipython3",
   "version": "3.11.3"
  }
 },
 "nbformat": 4,
 "nbformat_minor": 2
}
