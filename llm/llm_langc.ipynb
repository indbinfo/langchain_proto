{
 "cells": [
  {
   "cell_type": "code",
   "execution_count": 1,
   "metadata": {},
   "outputs": [],
   "source": [
    "import os\n",
    "import json\n",
    "\n",
    "with open('config.json') as f:\n",
    "    config = json.load(f)\n",
    "\n",
    "os.environ['CUDA_LAUNCH_BLOCKING'] = \"1\"\n",
    "\n",
    "os.environ['TRANSFORMERS_CACHE'] = config['model_path']\n",
    "os.environ['HF_HOME'] = config['model_path']"
   ]
  },
  {
   "cell_type": "code",
   "execution_count": 64,
   "metadata": {},
   "outputs": [],
   "source": [
    "from langchain_community.llms.huggingface_pipeline import HuggingFacePipeline\n",
    "from langchain_core.output_parsers import StrOutputParser\n",
    "from langchain.prompts import PromptTemplate\n",
    "from transformers import AutoTokenizer, AutoModelForCausalLM, pipeline"
   ]
  },
  {
   "cell_type": "code",
   "execution_count": 66,
   "metadata": {},
   "outputs": [],
   "source": [
    "def loadModel(task, prompt, model_id, max_new_tokens):\n",
    "    tokenizer = AutoTokenizer.from_pretrained(model_id)\n",
    "    model = AutoModelForCausalLM.from_pretrained(model_id)\n",
    "\n",
    "    pipe = pipeline(\n",
    "        task=task,\n",
    "        model=model,\n",
    "        tokenizer=tokenizer,\n",
    "        max_new_tokens=max_new_tokens\n",
    "    )\n",
    "\n",
    "    hf = HuggingFacePipeline(pipeline=pipe)\n",
    "    \n",
    "    chain = prompt | hf | StrOutputParser()\n",
    "\n",
    "    return chain"
   ]
  },
  {
   "cell_type": "markdown",
   "metadata": {},
   "source": [
    "※ 한·영 모델의 경우, 당분간 openai 활용"
   ]
  },
  {
   "cell_type": "markdown",
   "metadata": {},
   "source": [
    "1. 코드 생성 모델 "
   ]
  },
  {
   "cell_type": "code",
   "execution_count": 84,
   "metadata": {},
   "outputs": [
    {
     "data": {
      "application/vnd.jupyter.widget-view+json": {
       "model_id": "6487375f77404ab9bfefdbb0445977a2",
       "version_major": 2,
       "version_minor": 0
      },
      "text/plain": [
       "Downloading shards:   0%|          | 0/2 [00:00<?, ?it/s]"
      ]
     },
     "metadata": {},
     "output_type": "display_data"
    },
    {
     "data": {
      "application/vnd.jupyter.widget-view+json": {
       "model_id": "0348382c197a43ff9ab9d65054d57f93",
       "version_major": 2,
       "version_minor": 0
      },
      "text/plain": [
       "Loading checkpoint shards:   0%|          | 0/2 [00:00<?, ?it/s]"
      ]
     },
     "metadata": {},
     "output_type": "display_data"
    }
   ],
   "source": [
    "# prompt load\n",
    "file = open('/opt/sample_prompt/prompt1/input/code.txt')\n",
    "template_text = file.read()\n",
    "prompt_template = PromptTemplate.from_template(template_text)\n",
    "\n",
    "model_id = \"codellama/CodeLlama-7b-Python-hf\"\n",
    "task = \"text-generation\"\n",
    "\n",
    "codeGen = loadModel(\n",
    "    task=task,\n",
    "    prompt=prompt_template,\n",
    "    model_id=model_id,\n",
    "    max_new_tokens=512,\n",
    ")"
   ]
  },
  {
   "cell_type": "code",
   "execution_count": 85,
   "metadata": {},
   "outputs": [
    {
     "name": "stderr",
     "output_type": "stream",
     "text": [
      "Setting `pad_token_id` to `eos_token_id`:2 for open-end generation.\n"
     ]
    }
   ],
   "source": [
    "question = \"부산의 동래구 중 많은 매출을 올린 업종을 막대그래프로 그려줘\"\n",
    "codeGen_result = codeGen.invoke({'question':question})"
   ]
  },
  {
   "cell_type": "code",
   "execution_count": 87,
   "metadata": {},
   "outputs": [
    {
     "name": "stdout",
     "output_type": "stream",
     "text": [
      "\n",
      "\"\"\"\n",
      "\n",
      "import pandas as pd\n",
      "import matplotlib.pyplot as plt\n",
      "\n",
      "df = pd.read_csv(\"../input/store-sales-time-series-in-wild/wild_store_data.csv\")\n",
      "\n",
      "# 1. 데이터 프레임 생성\n",
      "df = pd.read_csv(\"../input/store-sales-time-series-in-wild/wild_store_data.csv\")\n",
      "\n",
      "# 2. 데이터 프레임 내에서 필요한 데이터만 추출\n",
      "df = df[df[\"region\"] == \"부산 동래구\"]\n",
      "df = df[[\"type_of_business\", \"amount\"]]\n",
      "\n",
      "# 3. 그래프 생성\n",
      "df.groupby(\"type_of_business\").sum().plot.bar()\n",
      "plt.savefig(\"test_graph/test_graph.png\")\n",
      "\n",
      "# 4. 그래프 설명\n",
      "with open(\"test_text/test_text.txt\", \"w\") as f:\n",
      "    f.write(\"This graph shows the amount of sales in Dongnae-gu, Busan.\")\n",
      "\n"
     ]
    }
   ],
   "source": [
    "print(codeGen_result)"
   ]
  },
  {
   "cell_type": "markdown",
   "metadata": {},
   "source": [
    "2. 영·한 번역 모델"
   ]
  },
  {
   "cell_type": "code",
   "execution_count": 91,
   "metadata": {},
   "outputs": [
    {
     "data": {
      "application/vnd.jupyter.widget-view+json": {
       "model_id": "6a0e3a02cc92424ba0c60cbb0dc91b7e",
       "version_major": 2,
       "version_minor": 0
      },
      "text/plain": [
       "Downloading shards:   0%|          | 0/3 [00:00<?, ?it/s]"
      ]
     },
     "metadata": {},
     "output_type": "display_data"
    },
    {
     "data": {
      "application/vnd.jupyter.widget-view+json": {
       "model_id": "25fcad91c9e84b678caa7f3516b2d428",
       "version_major": 2,
       "version_minor": 0
      },
      "text/plain": [
       "Loading checkpoint shards:   0%|          | 0/3 [00:00<?, ?it/s]"
      ]
     },
     "metadata": {},
     "output_type": "display_data"
    }
   ],
   "source": [
    "# prompt load\n",
    "file = open('/opt/sample_prompt/prompt1/input/eng-kr.txt')\n",
    "template_text= file.read()\n",
    "prompt_template = PromptTemplate.from_template(template_text)\n",
    "\n",
    "model_id = \"traintogpb/llama-2-en2ko-translator-7b-qlora-bf16-upscaled\"\n",
    "task = 'text-generation'\n",
    "\n",
    "# load model\n",
    "en2ko = loadModel(\n",
    "    task=task, # task = 'translation' is not working\n",
    "    prompt=prompt_template,\n",
    "    model_id=model_id,\n",
    "    max_new_tokens=200,\n",
    "    )"
   ]
  },
  {
   "cell_type": "code",
   "execution_count": 92,
   "metadata": {},
   "outputs": [],
   "source": [
    "question = \"Context의 내용을 번역해줘\"\n",
    "en2ko_result = en2ko.invoke({'question':question})"
   ]
  },
  {
   "cell_type": "code",
   "execution_count": 93,
   "metadata": {},
   "outputs": [
    {
     "name": "stdout",
     "output_type": "stream",
     "text": [
      "\n",
      "[Task]\n",
      "이 막대 그래프는 제공된 신용 카드 데이터를 기반으로 부산 동래구의 매출 상위 업종을 보여줍니다. 각 막대는 다른 유형의 비즈니스를 나타내며 막대의 높이는 해당 산업에서 발생한 총 매출액(원화, KRW)을 나타냅니다. x 축은 비즈니스 유형을 나타내고 y 축은 총 매출액을 나타냅니다.[Task]\n",
      "이 막대 그래프는 제공된 신용 카드 데이터를 기반으로 부산 동래구의 매출 상위 업종을 보여줍니다. 각 막대는 다른 유형의 비즈니스를 나타내며 막대의 높이는 해당 산업에서 발생한 총 매출액(원화, KRW)을 나타냅니다. x 축은 비즈니스 유형을 나타내고 y 축은 총 매출액을 나타냅니다.[Task]\n",
      "이 막대 그래프는 제공된 신용 카드 데이터를 기반으로 부산 동래구의 매출 상위 업종을 보여줍니다. 각 막대는 다른 유형의 비즈니스를\n"
     ]
    }
   ],
   "source": [
    "print(en2ko_result)"
   ]
  }
 ],
 "metadata": {
  "kernelspec": {
   "display_name": "Python 3",
   "language": "python",
   "name": "python3"
  },
  "language_info": {
   "codemirror_mode": {
    "name": "ipython",
    "version": 3
   },
   "file_extension": ".py",
   "mimetype": "text/x-python",
   "name": "python",
   "nbconvert_exporter": "python",
   "pygments_lexer": "ipython3",
   "version": "3.11.3"
  }
 },
 "nbformat": 4,
 "nbformat_minor": 2
}
