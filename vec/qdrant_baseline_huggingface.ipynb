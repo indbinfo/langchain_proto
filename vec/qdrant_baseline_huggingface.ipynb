{
 "cells": [
  {
   "cell_type": "code",
   "execution_count": 133,
   "metadata": {},
   "outputs": [],
   "source": [
    "#from qdrant_client import models, QdrantClient\n",
    "import qdrant_client\n",
    "#from langchain.vectorstores import Qdrant\n",
    "from langchain_community.vectorstores import Qdrant\n",
    "from langchain.text_splitter import RecursiveCharacterTextSplitter\n",
    "#from langchain_openai import OpenAIEmbeddings\n",
    "from langchain.embeddings import HuggingFaceEmbeddings\n",
    "from sentence_transformers import SentenceTransformer\n",
    "\n",
    "import os\n",
    "import numpy as np\n",
    "import pandas as pd\n",
    "import openai\n",
    "import tiktoken\n",
    "import uuid\n",
    "import json"
   ]
  },
  {
   "cell_type": "code",
   "execution_count": 21,
   "metadata": {},
   "outputs": [],
   "source": [
    "with open('c:/Program Files/Git/config.json', 'r', encoding='utf8') as f:\n",
    "    config = json.load(f)\n",
    "\n",
    "os.environ['QDRANT_HOST'] = config['QDRANT_HOST']\n",
    "os.environ['QDRANT_API_KEY'] = config['QDRANT_API_KEY']\n",
    "os.environ['OPENAI_API_KEY'] = config['OPENAI_API_KEY']"
   ]
  },
  {
   "cell_type": "code",
   "execution_count": 22,
   "metadata": {},
   "outputs": [],
   "source": [
    "# create client connection\n",
    "\n",
    "client = qdrant_client.QdrantClient(\n",
    "        os.getenv(\"QDRANT_HOST\"),\n",
    "        api_key=os.getenv(\"QDRANT_API_KEY\")\n",
    "    )"
   ]
  },
  {
   "cell_type": "markdown",
   "metadata": {},
   "source": [
    "##### **1. Qdrant Create**"
   ]
  },
  {
   "cell_type": "code",
   "execution_count": 203,
   "metadata": {},
   "outputs": [
    {
     "data": {
      "text/plain": [
       "True"
      ]
     },
     "execution_count": 203,
     "metadata": {},
     "output_type": "execute_result"
    }
   ],
   "source": [
    "# create or replace collection\n",
    "\n",
    "os.environ['QDRANT_COLLECTION_NAME'] = \"sample\"\n",
    "\n",
    "collection_config = qdrant_client.http.models.VectorParams(\n",
    "        size=768, # 1536 for OpenAI #768 for Gemini/HuggingFace/instructor-xl\n",
    "        distance=qdrant_client.http.models.Distance.COSINE\n",
    "    )\n",
    "\n",
    "client.recreate_collection(\n",
    "    collection_name=os.getenv('QDRANT_COLLECTION_NAME'),\n",
    "    vectors_config=collection_config\n",
    ")"
   ]
  },
  {
   "cell_type": "code",
   "execution_count": 74,
   "metadata": {},
   "outputs": [],
   "source": [
    "def tiktoken_len(text):\n",
    "    tokenizer = tiktoken.get_encoding(\"cl100k_base\")\n",
    "    tokens = tokenizer.encode(text)\n",
    "    return len(tokens)"
   ]
  },
  {
   "cell_type": "code",
   "execution_count": 75,
   "metadata": {},
   "outputs": [],
   "source": [
    "# add documents to your vector database\n",
    "\n",
    "from langchain.text_splitter import RecursiveCharacterTextSplitter\n",
    "\n",
    "def get_chunks(text):\n",
    "    text_splitter = RecursiveCharacterTextSplitter(\n",
    "        #separator=\"\\n\",\n",
    "        chunk_size=900,\n",
    "        chunk_overlap=200,\n",
    "        length_function=tiktoken_len\n",
    "    )\n",
    "    chunks = text_splitter.split_text(text)\n",
    "    return chunks"
   ]
  },
  {
   "cell_type": "code",
   "execution_count": 76,
   "metadata": {},
   "outputs": [],
   "source": [
    "# embedding model definition(be aware of dimension size!!!)\n",
    "\n",
    "def get_embedding():\n",
    "    embeddings = HuggingFaceEmbeddings(\n",
    "                                    model_name=\"jhgan/ko-sroberta-multitask\",\n",
    "                                    model_kwargs={'device': 'cpu'},\n",
    "                                    encode_kwargs={'normalize_embeddings': True}\n",
    "                                    )  \n",
    "    return embeddings"
   ]
  },
  {
   "cell_type": "code",
   "execution_count": 242,
   "metadata": {},
   "outputs": [],
   "source": [
    "# transform chucnks into vector\n",
    "\n",
    "def get_vectorstore(text_chunks, collection_name,ids, metadatas\n",
    "                    ):\n",
    "    vectorstore = Qdrant(\n",
    "        client=client,\n",
    "        collection_name=collection_name,\n",
    "        embeddings=get_embedding()\n",
    "    )\n",
    "    vectorstore.add_texts(text_chunks\n",
    "                        ,ids=ids\n",
    "                        , metadatas=metadatas\n",
    "                        )\n",
    "    return vectorstore"
   ]
  },
  {
   "cell_type": "code",
   "execution_count": 120,
   "metadata": {},
   "outputs": [],
   "source": [
    "# # upsert vectors into Qdrant \n",
    "# # id=indexing method \n",
    "# # metadata= payload {key:value}\n",
    "\n",
    "# def upsert_vectorstore(text_chunks, vectorstore, ids, metadatas):\n",
    "#     vectorstore.add_texts(text_chunks\n",
    "#                         ,ids=ids\n",
    "#                         , metadatas=metadatas\n",
    "#                         )\n",
    "#     return vectorstore"
   ]
  },
  {
   "cell_type": "code",
   "execution_count": 110,
   "metadata": {},
   "outputs": [],
   "source": [
    "with open(\"C:/Users/astri/Downloads/비씨카드 리뉴얼/sample_prompt/qdrant/context.txt\", 'rt', encoding='UTF8') as f:\n",
    "    context = f.read()\n",
    "with open(\"C:/Users/astri/Downloads/비씨카드 리뉴얼/sample_prompt/qdrant/code_rule.txt\", 'rt', encoding='UTF8') as f:\n",
    "    code_rule = f.read()\n",
    "with open(\"C:/Users/astri/Downloads/비씨카드 리뉴얼/sample_prompt/qdrant/task.txt\", 'rt', encoding='UTF8') as f:\n",
    "    task = f.read()"
   ]
  },
  {
   "cell_type": "code",
   "execution_count": 124,
   "metadata": {},
   "outputs": [],
   "source": [
    "chunks_1 = get_chunks(context)\n",
    "chunks_2 = get_chunks(code_rule)\n",
    "chunks_3 = get_chunks(task)"
   ]
  },
  {
   "cell_type": "code",
   "execution_count": 299,
   "metadata": {},
   "outputs": [],
   "source": [
    "#for Qdrant search method\n",
    "\n",
    "meta_1=list(np.repeat(\"context\",len(chunks_1)))\n",
    "meta_2=list(np.repeat(\"code_rule\",len(chunks_2)))\n",
    "meta_3=list(np.repeat(\"task\",len(chunks_3)))"
   ]
  },
  {
   "cell_type": "code",
   "execution_count": 306,
   "metadata": {},
   "outputs": [],
   "source": [
    "#for langchaing invoke method\n",
    "\n",
    "meta_1=list(np.repeat({\"filter\":\"context\"},len(chunks_1)))\n",
    "meta_2=list(np.repeat({\"filter\":\"code_rule\"},len(chunks_2)))\n",
    "meta_3=list(np.repeat({\"filter\":\"task\"},len(chunks_3)))"
   ]
  },
  {
   "cell_type": "code",
   "execution_count": 307,
   "metadata": {},
   "outputs": [],
   "source": [
    "#chunck_list = sum([chunks_1,chunks_2, chunks_3],[] )\n",
    "metadatas= sum([meta_1,meta_2, meta_3] , [])"
   ]
  },
  {
   "cell_type": "code",
   "execution_count": 308,
   "metadata": {},
   "outputs": [],
   "source": [
    "collection_name=\"sample\"\n",
    "ids=list(range(len(chunck_list)))\n",
    "vec=get_vectorstore(chunck_list, collection_name, ids, metadatas)"
   ]
  },
  {
   "cell_type": "code",
   "execution_count": 318,
   "metadata": {},
   "outputs": [
    {
     "data": {
      "text/plain": [
       "UpdateResult(operation_id=16, status=<UpdateStatus.COMPLETED: 'completed'>)"
      ]
     },
     "execution_count": 318,
     "metadata": {},
     "output_type": "execute_result"
    }
   ],
   "source": [
    "client.set_payload(\n",
    "    collection_name=\"sample\",\n",
    "    payload={'filter': 'task'},\n",
    "    points=[11]\n",
    ")"
   ]
  },
  {
   "cell_type": "code",
   "execution_count": 319,
   "metadata": {},
   "outputs": [
    {
     "data": {
      "text/plain": [
       "UpdateResult(operation_id=17, status=<UpdateStatus.COMPLETED: 'completed'>)"
      ]
     },
     "execution_count": 319,
     "metadata": {},
     "output_type": "execute_result"
    }
   ],
   "source": [
    "client.set_payload(\n",
    "    collection_name=\"sample\",\n",
    "    payload={'filter': 'code_rule'},\n",
    "    points=[9,10]\n",
    ")"
   ]
  },
  {
   "cell_type": "code",
   "execution_count": 320,
   "metadata": {},
   "outputs": [
    {
     "data": {
      "text/plain": [
       "UpdateResult(operation_id=18, status=<UpdateStatus.COMPLETED: 'completed'>)"
      ]
     },
     "execution_count": 320,
     "metadata": {},
     "output_type": "execute_result"
    }
   ],
   "source": [
    "client.set_payload(\n",
    "    collection_name=\"sample\",\n",
    "    payload={'filter': 'context'},\n",
    "    points=[0,1,2,3,4,5,6,7,8]\n",
    ")"
   ]
  },
  {
   "cell_type": "markdown",
   "metadata": {},
   "source": [
    "##### **2. Qdrant Search**"
   ]
  },
  {
   "cell_type": "code",
   "execution_count": 309,
   "metadata": {},
   "outputs": [],
   "source": [
    "# count vectors \n",
    "\n",
    "cnt = client.count(\n",
    "    collection_name=\"sample\", \n",
    "    exact=True,\n",
    ")\n",
    "index=[i for i in range(0,cnt.count)]"
   ]
  },
  {
   "cell_type": "code",
   "execution_count": 321,
   "metadata": {},
   "outputs": [
    {
     "data": {
      "text/plain": [
       "[Record(id=0, payload={'filter': 'context', 'metadata': {'filter': 'context'}, 'page_content': 'This data is credit card data.\\nThe information about the data is as follows:\\n\\n #   Column            Dtype  \\n\\n---  ------            -----'}, vector=None, shard_key=None),\n",
       " Record(id=1, payload={'filter': 'context', 'metadata': {'filter': 'context'}, 'page_content': \"0   store_id          int64  \\n 1   card_id           int64  \\n 2   card_company      object \\n 3   transacted_date   object \\n 4   transacted_time   object \\n 5   installment_term  int64  \\n 6   region            object \\n 7   type_of_business  object \\n 8   amount            float64\\nBelow are additional details about each column.\\nDate columns are in the format YYYY-MM-DD.\\nTime columns are in the format HH:MM.\\nThe values \\u200b\\u200bin the region column are as follows.\\narray(['부산 동래구', '서울 종로구', '대구 수성구', '경기 용인시', '경기 안양시', '경기 수원시',\\n       '서울 마포구', '부산 부산진구', '서울 중랑구', '서울 용산구', '전남 목포시', '서울 동작구',\\n       '경북 경주시', '인천 계양구', '서울 강서구', '경기 성남시', '서울 영등포구', '서울 서대문구',\\n       '서울 강남구', '서울 은평구', '서울 구로구', '서울 서초구', '서울 중구', '경기 시흥시',\\n       '서울 양천구', '강원 강릉시', '서울 관악구', '인천 남구', '인천 동구', '충북 제천시', '인천 남동구',\\n       '인천 연수구', '인천 부평구', '경기 화성시', '경기 평택시', '경기 안성시', '전남 순천시',\\n       '경기 이천시', '경기 광주시', '경기 의정부시', '경기 포천시', '경기 양주시', '경기 파주시',\\n       '경기 고양시', '서울 송파구', '충북 옥천군', '경기 부천시', '경기 광명시', '경기 남양주시',\\n       '경기 안산시', '경기 오산시', '인천 서구', '경기 과천시', '경남 김해시', '경기 의왕시',\\n       '제주 서귀포시', '전남 여수시', '제주 제주시', '부산 금정구', '경북 구미시', '광주 서구',\\n       '충남 아산시', '부산 강서구', '경남 양산시', '경남 창원시', '강원 양구군', '충북 충주시',\\n       '경남 통영시', '부산 사하구', '대구 남구', '경기 구리시', '강원 태백시', '서울 동대문구',\\n       '충북 청주시', '대구 북구', '서울 성동구', '서울 광진구', '서울 성북구', '서울 강북구',\"}, vector=None, shard_key=None),\n",
       " Record(id=2, payload={'filter': 'context', 'metadata': {'filter': 'context'}, 'page_content': \"'충남 아산시', '부산 강서구', '경남 양산시', '경남 창원시', '강원 양구군', '충북 충주시',\\n       '경남 통영시', '부산 사하구', '대구 남구', '경기 구리시', '강원 태백시', '서울 동대문구',\\n       '충북 청주시', '대구 북구', '서울 성동구', '서울 광진구', '서울 성북구', '서울 강북구',\\n       '서울 노원구', '서울 강동구', '강원 원주시', '서울 금천구', '부산 수영구', '부산 사상구',\\n       '부산 북구', '강원 춘천시', '강원 삼척시', '전북 전주시', '강원 홍천군', '강원 횡성군', '광주 동구',\\n       '강원 속초시', '경기 연천군', '경기 김포시', '부산 중구', '충북 단양군', '대전 서구', '울산 북구',\\n       '경기 군포시', '경기 동두천시', '충남 서산시', '경북 영주시', '부산 남구', '충북 음성군',\\n       '대전 대덕구', '대전 동구', '대전 중구', '충남 공주시', '충남 부여군', '경북 경산시', '충남 홍성군',\\n       '충남 당진시', '충남 천안시', '대구 동구', '충남 보령시', '대전 유성구', '경북 영천시', '울산 남구',\\n       '전남 무안군', '전북 익산시', '전북 군산시', '전북 정읍시', '전북 남원시', '광주 북구', '광주 남구',\\n       '전남 담양군', '전남 함평군', '전남 완도군', '전남 고흥군', '경남 창녕군', '대구 달서구',\\n       '충북 증평군', '부산 영도구', '부산 해운대구', '경남 거제시', '경기 양평군', '전남 나주시',\\n       '대구 중구', '대구 서구', '경북 포항시', '경북 울진군', '경북 안동시', '경북 김천시', '대구 달성군',\\n       '경남 사천시', '경기 하남시', '부산 서구', '부산 기장군', '부산 연제구', '경남 거창군',\"}, vector=None, shard_key=None),\n",
       " Record(id=3, payload={'filter': 'context', 'metadata': {'filter': 'context'}, 'page_content': '\\'충북 증평군\\', \\'부산 영도구\\', \\'부산 해운대구\\', \\'경남 거제시\\', \\'경기 양평군\\', \\'전남 나주시\\',\\n       \\'대구 중구\\', \\'대구 서구\\', \\'경북 포항시\\', \\'경북 울진군\\', \\'경북 안동시\\', \\'경북 김천시\\', \\'대구 달성군\\',\\n       \\'경남 사천시\\', \\'경기 하남시\\', \\'부산 서구\\', \\'부산 기장군\\', \\'부산 연제구\\', \\'경남 거창군\\',\\n       \\'경남 남해군\\', \\'경남 진주시\\', \\'경남 밀양시\\', \\'울산 동구\\', \\'울산 중구\\', \\'경북 상주시\\',\\n       \\'세종 고운서길\\', \\'인천 중구\\', \\'전남 곡성군\\', \\'경북 성주군\\', \\'전남 광양시\\', \\'세종 조치원읍\\',\\n       \\'경기 가평군\\'], dtype=object)\\nAdditional information about the region data is that when the words are separated by spaces, the word before \"구\" ends with the original regional name as \"시.\" For example, there are Seoul, Busan, etc. in \"시.\" On the other hand, words ending in \"구\" are regional names for \"province.\" However, there is a point to note. The word \"Sejong\" is called \"Sejong-si\" even if it does not end with \"*구*.\"'}, vector=None, shard_key=None),\n",
       " Record(id=4, payload={'filter': 'context', 'metadata': {'filter': 'context'}, 'page_content': '본 데이터는 신용카드 데이터이다.\\n데이터에 관한 정보는 아래와 같다.\\n\\n #   Column            Dtype  \\n\\n---  ------            -----'}, vector=None, shard_key=None),\n",
       " Record(id=5, payload={'filter': 'context', 'metadata': {'filter': 'context'}, 'page_content': \"0   store_id          int64  \\n 1   card_id           int64  \\n 2   card_company      object \\n 3   transacted_date   object \\n 4   transacted_time   object \\n 5   installment_term  int64  \\n 6   region            object \\n 7   type_of_business  object \\n 8   amount            float64\\n아래는 각 컬럼의 추가정인 정보이다.\\n날짜 컬럼는 YYYY-MM-DD 형식이다.\\n시간 컬럼는 HH:MM 형식이다.\\n지역 컬럼의 값들은 아래와 같다.\\narray(['부산 동래구', '서울 종로구', '대구 수성구', '경기 용인시', '경기 안양시', '경기 수원시',\\n       '서울 마포구', '부산 부산진구', '서울 중랑구', '서울 용산구', '전남 목포시', '서울 동작구',\\n       '경북 경주시', '인천 계양구', '서울 강서구', '경기 성남시', '서울 영등포구', '서울 서대문구',\\n       '서울 강남구', '서울 은평구', '서울 구로구', '서울 서초구', '서울 중구', '경기 시흥시',\\n       '서울 양천구', '강원 강릉시', '서울 관악구', '인천 남구', '인천 동구', '충북 제천시', '인천 남동구',\\n       '인천 연수구', '인천 부평구', '경기 화성시', '경기 평택시', '경기 안성시', '전남 순천시',\\n       '경기 이천시', '경기 광주시', '경기 의정부시', '경기 포천시', '경기 양주시', '경기 파주시',\\n       '경기 고양시', '서울 송파구', '충북 옥천군', '경기 부천시', '경기 광명시', '경기 남양주시',\\n       '경기 안산시', '경기 오산시', '인천 서구', '경기 과천시', '경남 김해시', '경기 의왕시',\\n       '제주 서귀포시', '전남 여수시', '제주 제주시', '부산 금정구', '경북 구미시', '광주 서구',\\n       '충남 아산시', '부산 강서구', '경남 양산시', '경남 창원시', '강원 양구군', '충북 충주시',\\n       '경남 통영시', '부산 사하구', '대구 남구', '경기 구리시', '강원 태백시', '서울 동대문구',\\n       '충북 청주시', '대구 북구', '서울 성동구', '서울 광진구', '서울 성북구', '서울 강북구',\"}, vector=None, shard_key=None),\n",
       " Record(id=6, payload={'filter': 'context', 'metadata': {'filter': 'context'}, 'page_content': \"'충남 아산시', '부산 강서구', '경남 양산시', '경남 창원시', '강원 양구군', '충북 충주시',\\n       '경남 통영시', '부산 사하구', '대구 남구', '경기 구리시', '강원 태백시', '서울 동대문구',\\n       '충북 청주시', '대구 북구', '서울 성동구', '서울 광진구', '서울 성북구', '서울 강북구',\\n       '서울 노원구', '서울 강동구', '강원 원주시', '서울 금천구', '부산 수영구', '부산 사상구',\\n       '부산 북구', '강원 춘천시', '강원 삼척시', '전북 전주시', '강원 홍천군', '강원 횡성군', '광주 동구',\\n       '강원 속초시', '경기 연천군', '경기 김포시', '부산 중구', '충북 단양군', '대전 서구', '울산 북구',\\n       '경기 군포시', '경기 동두천시', '충남 서산시', '경북 영주시', '부산 남구', '충북 음성군',\\n       '대전 대덕구', '대전 동구', '대전 중구', '충남 공주시', '충남 부여군', '경북 경산시', '충남 홍성군',\\n       '충남 당진시', '충남 천안시', '대구 동구', '충남 보령시', '대전 유성구', '경북 영천시', '울산 남구',\\n       '전남 무안군', '전북 익산시', '전북 군산시', '전북 정읍시', '전북 남원시', '광주 북구', '광주 남구',\\n       '전남 담양군', '전남 함평군', '전남 완도군', '전남 고흥군', '경남 창녕군', '대구 달서구',\\n       '충북 증평군', '부산 영도구', '부산 해운대구', '경남 거제시', '경기 양평군', '전남 나주시',\\n       '대구 중구', '대구 서구', '경북 포항시', '경북 울진군', '경북 안동시', '경북 김천시', '대구 달성군',\\n       '경남 사천시', '경기 하남시', '부산 서구', '부산 기장군', '부산 연제구', '경남 거창군',\"}, vector=None, shard_key=None),\n",
       " Record(id=7, payload={'filter': 'context', 'metadata': {'filter': 'context'}, 'page_content': '\\'충북 증평군\\', \\'부산 영도구\\', \\'부산 해운대구\\', \\'경남 거제시\\', \\'경기 양평군\\', \\'전남 나주시\\',\\n       \\'대구 중구\\', \\'대구 서구\\', \\'경북 포항시\\', \\'경북 울진군\\', \\'경북 안동시\\', \\'경북 김천시\\', \\'대구 달성군\\',\\n       \\'경남 사천시\\', \\'경기 하남시\\', \\'부산 서구\\', \\'부산 기장군\\', \\'부산 연제구\\', \\'경남 거창군\\',\\n       \\'경남 남해군\\', \\'경남 진주시\\', \\'경남 밀양시\\', \\'울산 동구\\', \\'울산 중구\\', \\'경북 상주시\\',\\n       \\'세종 고운서길\\', \\'인천 중구\\', \\'전남 곡성군\\', \\'경북 성주군\\', \\'전남 광양시\\', \\'세종 조치원읍\\',\\n       \\'경기 가평군\\'], dtype=object)\\n지역 데이터의 추가정인 정보는 문자를 띄어쓰기로 구분 하였을때 \"구\"로 끝나는 단어의 앞의 단어는 본래의 지역명은 시로 끝난다. 예시로 서울시, 부산시 등이 있다. 그에 반해 \"구\"로 끝나는 단어들은 \\'도\\' 지역 이름이다. 하지만 주의 해야할 점이 있다. 앞의 단어중 \"세종\"은 뒤에 *구*로 끝나지 않아도 \"세종시\"로 불린다.'}, vector=None, shard_key=None),\n",
       " Record(id=8, payload={'filter': 'context', 'metadata': {'filter': 'context'}, 'page_content': \"This bar graph illustrates the top industries by sales in Dongnae-gu, Busan, based on the provided credit card data.\\nEach bar represents a different type of business, and the height of the bar indicates the total sales amount (in Korean Won, KRW) generated by that industry.\\nThe x-axis denotes the type of business, while the y-axis represents the total sales amount.\\n\\nyou are a korean translator who lived in Korea for many years and knows well about korea's region and district name.\\nPlease translate the following Korean question to English, but do not translate any proper nouns such as names of places, people, or specific terms. Leave those in Korean and include them in single quotes in the English translation.\\n* example1\\nkorean question:서초동에서 가장 비싼 동네는 어디야?\\nenglish translation: which city is the most expensive in 서초동?\\n* example2\\nkorean question:서울에 왜 가고싶어 ?\\nenglish translation: why do you want to go to 서울?\\n* example3\\nkorean question:맥도날드 언제 갈꺼야?\\nenglish translation: when are you going to go to 맥도날드?\\n* example4\\nkorean question:한국에 마지막으로 간게 언제야?\\nenglish translation: when is the last time you visited 한국?\\n\\nyou are a korean translator who lived in Korea for many years and knows well about korea's region and district name.\\n\\n[context]\\nAnalysis Report:\\nThe line chart above illustrates the monthly sales trends of different card companies in 2017. \\nFrom the chart, we can observe the fluctuations in sales amounts over the months.\\n\\n[Card Company A]: Sales remained relatively stable throughout the year, with a slight increase in the middle months.\\n[Card Company B]: Sales peaked in March, dipped in April, then gradually increased until September before declining again.\\n[Card Company C]: Sales were highest in January, then experienced a sharp decline in February and remained relatively low for the rest of the year.\\n[Card Company D]: Sales showed a steady increase from January to May, followed by a slight decrease in June, and then remained stable for the rest of the year.\\n[Card Company E]: Sales were highest in May, experienced a dip in June, and then gradually increased until October before declining again.\\n\\nOverall, Card Company B experienced the most significant fluctuations in sales throughout the year, while the other companies showed relatively stable trends.\"}, vector=None, shard_key=None),\n",
       " Record(id=9, payload={'filter': 'code_rule', 'metadata': {'filter': 'code_rule'}, 'page_content': '1.Text Start에서 TextEnd까지의 내용만 번역한다.\\n\\n2.\"\"으로 감싸진 부분은 원본값을 유지한다.\\n\\n3.\"부산 동래구\" 같은 데이터의 값들은 번역을 하지 않고 원본값을 유지한다.\\n\\n4.데이터의 설명중 원본 데이터 관한 내용은 원본값 그대로 유지한다.\\n\\n5.번역의 내용을 절대 축소하지 않고 텍스트 전체의 내용을 번역한다.\\n\\n1.모든 코드는 Python으로 작성이 된다.\\n\\n2.그래프 코드에 그래프를 저장하는 코드를 작성한다. 파일 위치는 지금 위치의 \\'test_graph\\'폴더에 \\'png\\'파일로 저장한다.\\n\\n3.그래프에 대한 간단한 설명을 작성하고 설명을 저장하는 코드를 작성한다. 파일위치는 지금 위치의 \\'test_text\\'폴더에 \\'txt\\'파일로 저장한다.\\n\\n4.데이터프레임을 생성할 필요는 없다.\\n\\n5.데이터가 로드되어 있는 상태고 그 데이터프레임 명은 df 이다.\\n\\n1. All code is written in Python.\\n\\n2. Write code to save the graph in the \\'png\\' file in the \\'test_graph\\' folder at the current location.\\n\\n3. Write code to save the description of the graph with a brief explanation. Save the file in the \\'txt\\' format in the \\'test_text\\' folder at the current location.\\n\\n4. There is no need to create a dataframe.\\n\\n5. The data is loaded and the dataframe name is df.\\n\\nthere are 8 code rules you should follow when you write a code.\\n\\n1. in the first part of the code, you should write following 4 lines of codes for encoding korean font.\\nimport matplotlib.pyplot as plt\\nfrom matplotlib import font_manager\\nfont_path = \\'/usr/share/fonts/nanum/NanumGothic.ttf\\'\\nfont_name = font_manager.FontProperties(fname=font_path).get_name()\\nplt.rcParams[\\'font.family\\'] = font_name\\n\\n2. if you load the data, you should remove the null data before you proceed other codes.\\n\\n3. if you can not analyze the data with the columns you have, you should create a derived column from the columns you have.\\n\\n4. if the [question] contains the intention of getting maximum values, you should create a bar chart that expose only the top 10 values.\\n\\n5. if you make a chart, you should save it to png file. the path for png file should be \"./prompt_2/img/test.png\\'\\n\\n6. at the end of the code, you should write a short report about what this analysis was about and mention the key point on this analysis. your report should be saved as a txt file and it should be saved on \\'./prompt_2/txt/test.txt\\'\\n\\n7. if the question is related to comparing data inbetween times, you should make a line chart.\\n\\n8. when making a chart, if your maximum values is larger than 10000, you should format your y-ticks starting from 1. and you must mention your number format is ten thousand.\\n\\nfor example, if you have maximum value of 55000, the highest y-tick you have should be noted as 5.5.\\n\\n9. when making a chart, your xtick should include years on the text only if your x data covers more than 1 year of time range. for the same reason, your xtick should compare months on the text only if your x data covers more than 1 month of time range.\\n\\n10. if the question asks you about specific time range, you need to filter that time range.'}, vector=None, shard_key=None),\n",
       " Record(id=10, payload={'filter': 'code_rule', 'metadata': {'filter': 'code_rule'}, 'page_content': \"7. if the question is related to comparing data inbetween times, you should make a line chart.\\n\\n8. when making a chart, if your maximum values is larger than 10000, you should format your y-ticks starting from 1. and you must mention your number format is ten thousand.\\n\\nfor example, if you have maximum value of 55000, the highest y-tick you have should be noted as 5.5.\\n\\n9. when making a chart, your xtick should include years on the text only if your x data covers more than 1 year of time range. for the same reason, your xtick should compare months on the text only if your x data covers more than 1 month of time range.\\n\\n10. if the question asks you about specific time range, you need to filter that time range.\\n\\nyour analysis on the variable 'result' should contain description about the chart you mentioned. you could compare the datas by time or inbetween two different values. it depends on how you grouped the data on your code. you need to create codes for analysis\\n* analysis example 1\\nthis graph compares the sales amount between top 10 companies on 2013. company recorded largest sales volume among others. this value is 25% higher compared to the average of other 9 companines.\\n\\n* analysis example 2\\nthis graph shows the ratio of the sales amount on company b on time sequence from the data from year 2023. company b's sale recored the highest on 9 to 12 pm which takes up to 25% of the sales volume. on the other hand, the sales on 6 to 9 am was the lowest which was 5 percent.\"}, vector=None, shard_key=None),\n",
       " Record(id=11, payload={'filter': 'task', 'metadata': {'filter': 'task'}, 'page_content': 'Draw a bar graph of the industries that made the most sales in Dongnae-gu, Busan.\\n부산의 동래구 중 많은 매출을 올린 업종을 막대그래프로 그려 달라\\n[context]의 내용을 번역해라.\\ntranslate the following text to english considering the [context] above\\nthe sentence is \\'2017년에 카드사의 월별 매출 동향을 알려줘?\\'\\n\"In 2017, can you tell me the monthly sales trends of the \\'카드사\\'?\"'}, vector=None, shard_key=None)]"
      ]
     },
     "execution_count": 321,
     "metadata": {},
     "output_type": "execute_result"
    }
   ],
   "source": [
    "#SELECT *\n",
    "\n",
    "client.retrieve(\n",
    "    collection_name=\"sample\",\n",
    "    ids=index,\n",
    "    with_vectors=False # the default is False\n",
    ")"
   ]
  },
  {
   "cell_type": "code",
   "execution_count": 194,
   "metadata": {},
   "outputs": [],
   "source": [
    "def get_filter(key, value):\n",
    "    filter = models.Filter(\n",
    "    must=[models.FieldCondition(key=key\n",
    "                                , match=models.MatchValue(value=value))]\n",
    "                                )\n",
    "    return filter"
   ]
  },
  {
   "cell_type": "code",
   "execution_count": 322,
   "metadata": {},
   "outputs": [],
   "source": [
    "\n",
    "code_rule_filter = models.Filter(\n",
    "    must=[models.FieldCondition(key=\"filter\"\n",
    "                                , match=models.MatchValue(value=\"code_rule\"))]\n",
    ")\n",
    "context_filter = models.Filter(\n",
    "    must=[models.FieldCondition(key=\"filter\"\n",
    "                                , match=models.MatchValue(value=\"context\"))]\n",
    ")\n",
    "task_filter = models.Filter(\n",
    "    must=[models.FieldCondition(key=\"filter\"\n",
    "                                , match=models.MatchValue(value=\"task\"))]\n",
    ")"
   ]
  },
  {
   "cell_type": "code",
   "execution_count": 173,
   "metadata": {},
   "outputs": [],
   "source": [
    "# create dummy vector\n",
    "\n",
    "def new_rule():\n",
    "    return np.random.uniform(low=-1.0, high=1.0, size=768).tolist()"
   ]
  },
  {
   "cell_type": "code",
   "execution_count": 323,
   "metadata": {},
   "outputs": [
    {
     "data": {
      "text/plain": [
       "[ScoredPoint(id=9, version=17, score=0.009048067, payload={'filter': 'code_rule', 'metadata': {'filter': 'code_rule'}, 'page_content': '1.Text Start에서 TextEnd까지의 내용만 번역한다.\\n\\n2.\"\"으로 감싸진 부분은 원본값을 유지한다.\\n\\n3.\"부산 동래구\" 같은 데이터의 값들은 번역을 하지 않고 원본값을 유지한다.\\n\\n4.데이터의 설명중 원본 데이터 관한 내용은 원본값 그대로 유지한다.\\n\\n5.번역의 내용을 절대 축소하지 않고 텍스트 전체의 내용을 번역한다.\\n\\n1.모든 코드는 Python으로 작성이 된다.\\n\\n2.그래프 코드에 그래프를 저장하는 코드를 작성한다. 파일 위치는 지금 위치의 \\'test_graph\\'폴더에 \\'png\\'파일로 저장한다.\\n\\n3.그래프에 대한 간단한 설명을 작성하고 설명을 저장하는 코드를 작성한다. 파일위치는 지금 위치의 \\'test_text\\'폴더에 \\'txt\\'파일로 저장한다.\\n\\n4.데이터프레임을 생성할 필요는 없다.\\n\\n5.데이터가 로드되어 있는 상태고 그 데이터프레임 명은 df 이다.\\n\\n1. All code is written in Python.\\n\\n2. Write code to save the graph in the \\'png\\' file in the \\'test_graph\\' folder at the current location.\\n\\n3. Write code to save the description of the graph with a brief explanation. Save the file in the \\'txt\\' format in the \\'test_text\\' folder at the current location.\\n\\n4. There is no need to create a dataframe.\\n\\n5. The data is loaded and the dataframe name is df.\\n\\nthere are 8 code rules you should follow when you write a code.\\n\\n1. in the first part of the code, you should write following 4 lines of codes for encoding korean font.\\nimport matplotlib.pyplot as plt\\nfrom matplotlib import font_manager\\nfont_path = \\'/usr/share/fonts/nanum/NanumGothic.ttf\\'\\nfont_name = font_manager.FontProperties(fname=font_path).get_name()\\nplt.rcParams[\\'font.family\\'] = font_name\\n\\n2. if you load the data, you should remove the null data before you proceed other codes.\\n\\n3. if you can not analyze the data with the columns you have, you should create a derived column from the columns you have.\\n\\n4. if the [question] contains the intention of getting maximum values, you should create a bar chart that expose only the top 10 values.\\n\\n5. if you make a chart, you should save it to png file. the path for png file should be \"./prompt_2/img/test.png\\'\\n\\n6. at the end of the code, you should write a short report about what this analysis was about and mention the key point on this analysis. your report should be saved as a txt file and it should be saved on \\'./prompt_2/txt/test.txt\\'\\n\\n7. if the question is related to comparing data inbetween times, you should make a line chart.\\n\\n8. when making a chart, if your maximum values is larger than 10000, you should format your y-ticks starting from 1. and you must mention your number format is ten thousand.\\n\\nfor example, if you have maximum value of 55000, the highest y-tick you have should be noted as 5.5.\\n\\n9. when making a chart, your xtick should include years on the text only if your x data covers more than 1 year of time range. for the same reason, your xtick should compare months on the text only if your x data covers more than 1 month of time range.\\n\\n10. if the question asks you about specific time range, you need to filter that time range.'}, vector=None, shard_key=None),\n",
       " ScoredPoint(id=10, version=17, score=-0.015718607, payload={'filter': 'code_rule', 'metadata': {'filter': 'code_rule'}, 'page_content': \"7. if the question is related to comparing data inbetween times, you should make a line chart.\\n\\n8. when making a chart, if your maximum values is larger than 10000, you should format your y-ticks starting from 1. and you must mention your number format is ten thousand.\\n\\nfor example, if you have maximum value of 55000, the highest y-tick you have should be noted as 5.5.\\n\\n9. when making a chart, your xtick should include years on the text only if your x data covers more than 1 year of time range. for the same reason, your xtick should compare months on the text only if your x data covers more than 1 month of time range.\\n\\n10. if the question asks you about specific time range, you need to filter that time range.\\n\\nyour analysis on the variable 'result' should contain description about the chart you mentioned. you could compare the datas by time or inbetween two different values. it depends on how you grouped the data on your code. you need to create codes for analysis\\n* analysis example 1\\nthis graph compares the sales amount between top 10 companies on 2013. company recorded largest sales volume among others. this value is 25% higher compared to the average of other 9 companines.\\n\\n* analysis example 2\\nthis graph shows the ratio of the sales amount on company b on time sequence from the data from year 2023. company b's sale recored the highest on 9 to 12 pm which takes up to 25% of the sales volume. on the other hand, the sales on 6 to 9 am was the lowest which was 5 percent.\"}, vector=None, shard_key=None)]"
      ]
     },
     "execution_count": 323,
     "metadata": {},
     "output_type": "execute_result"
    }
   ],
   "source": [
    "# WHERE metadata=\"code_rule\"\n",
    "\n",
    "client.search(\n",
    "    collection_name=\"sample\"\n",
    "    ,query_vector=new_rule()\n",
    "    ,query_filter=code_rule_filter\n",
    ")"
   ]
  },
  {
   "cell_type": "code",
   "execution_count": 324,
   "metadata": {},
   "outputs": [
    {
     "data": {
      "text/plain": [
       "[ScoredPoint(id=8, version=18, score=0.041703954, payload={'filter': 'context', 'metadata': {'filter': 'context'}, 'page_content': \"This bar graph illustrates the top industries by sales in Dongnae-gu, Busan, based on the provided credit card data.\\nEach bar represents a different type of business, and the height of the bar indicates the total sales amount (in Korean Won, KRW) generated by that industry.\\nThe x-axis denotes the type of business, while the y-axis represents the total sales amount.\\n\\nyou are a korean translator who lived in Korea for many years and knows well about korea's region and district name.\\nPlease translate the following Korean question to English, but do not translate any proper nouns such as names of places, people, or specific terms. Leave those in Korean and include them in single quotes in the English translation.\\n* example1\\nkorean question:서초동에서 가장 비싼 동네는 어디야?\\nenglish translation: which city is the most expensive in 서초동?\\n* example2\\nkorean question:서울에 왜 가고싶어 ?\\nenglish translation: why do you want to go to 서울?\\n* example3\\nkorean question:맥도날드 언제 갈꺼야?\\nenglish translation: when are you going to go to 맥도날드?\\n* example4\\nkorean question:한국에 마지막으로 간게 언제야?\\nenglish translation: when is the last time you visited 한국?\\n\\nyou are a korean translator who lived in Korea for many years and knows well about korea's region and district name.\\n\\n[context]\\nAnalysis Report:\\nThe line chart above illustrates the monthly sales trends of different card companies in 2017. \\nFrom the chart, we can observe the fluctuations in sales amounts over the months.\\n\\n[Card Company A]: Sales remained relatively stable throughout the year, with a slight increase in the middle months.\\n[Card Company B]: Sales peaked in March, dipped in April, then gradually increased until September before declining again.\\n[Card Company C]: Sales were highest in January, then experienced a sharp decline in February and remained relatively low for the rest of the year.\\n[Card Company D]: Sales showed a steady increase from January to May, followed by a slight decrease in June, and then remained stable for the rest of the year.\\n[Card Company E]: Sales were highest in May, experienced a dip in June, and then gradually increased until October before declining again.\\n\\nOverall, Card Company B experienced the most significant fluctuations in sales throughout the year, while the other companies showed relatively stable trends.\"}, vector=None, shard_key=None),\n",
       " ScoredPoint(id=0, version=18, score=0.03434563, payload={'filter': 'context', 'metadata': {'filter': 'context'}, 'page_content': 'This data is credit card data.\\nThe information about the data is as follows:\\n\\n #   Column            Dtype  \\n\\n---  ------            -----'}, vector=None, shard_key=None),\n",
       " ScoredPoint(id=5, version=18, score=0.029576814, payload={'filter': 'context', 'metadata': {'filter': 'context'}, 'page_content': \"0   store_id          int64  \\n 1   card_id           int64  \\n 2   card_company      object \\n 3   transacted_date   object \\n 4   transacted_time   object \\n 5   installment_term  int64  \\n 6   region            object \\n 7   type_of_business  object \\n 8   amount            float64\\n아래는 각 컬럼의 추가정인 정보이다.\\n날짜 컬럼는 YYYY-MM-DD 형식이다.\\n시간 컬럼는 HH:MM 형식이다.\\n지역 컬럼의 값들은 아래와 같다.\\narray(['부산 동래구', '서울 종로구', '대구 수성구', '경기 용인시', '경기 안양시', '경기 수원시',\\n       '서울 마포구', '부산 부산진구', '서울 중랑구', '서울 용산구', '전남 목포시', '서울 동작구',\\n       '경북 경주시', '인천 계양구', '서울 강서구', '경기 성남시', '서울 영등포구', '서울 서대문구',\\n       '서울 강남구', '서울 은평구', '서울 구로구', '서울 서초구', '서울 중구', '경기 시흥시',\\n       '서울 양천구', '강원 강릉시', '서울 관악구', '인천 남구', '인천 동구', '충북 제천시', '인천 남동구',\\n       '인천 연수구', '인천 부평구', '경기 화성시', '경기 평택시', '경기 안성시', '전남 순천시',\\n       '경기 이천시', '경기 광주시', '경기 의정부시', '경기 포천시', '경기 양주시', '경기 파주시',\\n       '경기 고양시', '서울 송파구', '충북 옥천군', '경기 부천시', '경기 광명시', '경기 남양주시',\\n       '경기 안산시', '경기 오산시', '인천 서구', '경기 과천시', '경남 김해시', '경기 의왕시',\\n       '제주 서귀포시', '전남 여수시', '제주 제주시', '부산 금정구', '경북 구미시', '광주 서구',\\n       '충남 아산시', '부산 강서구', '경남 양산시', '경남 창원시', '강원 양구군', '충북 충주시',\\n       '경남 통영시', '부산 사하구', '대구 남구', '경기 구리시', '강원 태백시', '서울 동대문구',\\n       '충북 청주시', '대구 북구', '서울 성동구', '서울 광진구', '서울 성북구', '서울 강북구',\"}, vector=None, shard_key=None),\n",
       " ScoredPoint(id=1, version=18, score=0.029002756, payload={'filter': 'context', 'metadata': {'filter': 'context'}, 'page_content': \"0   store_id          int64  \\n 1   card_id           int64  \\n 2   card_company      object \\n 3   transacted_date   object \\n 4   transacted_time   object \\n 5   installment_term  int64  \\n 6   region            object \\n 7   type_of_business  object \\n 8   amount            float64\\nBelow are additional details about each column.\\nDate columns are in the format YYYY-MM-DD.\\nTime columns are in the format HH:MM.\\nThe values \\u200b\\u200bin the region column are as follows.\\narray(['부산 동래구', '서울 종로구', '대구 수성구', '경기 용인시', '경기 안양시', '경기 수원시',\\n       '서울 마포구', '부산 부산진구', '서울 중랑구', '서울 용산구', '전남 목포시', '서울 동작구',\\n       '경북 경주시', '인천 계양구', '서울 강서구', '경기 성남시', '서울 영등포구', '서울 서대문구',\\n       '서울 강남구', '서울 은평구', '서울 구로구', '서울 서초구', '서울 중구', '경기 시흥시',\\n       '서울 양천구', '강원 강릉시', '서울 관악구', '인천 남구', '인천 동구', '충북 제천시', '인천 남동구',\\n       '인천 연수구', '인천 부평구', '경기 화성시', '경기 평택시', '경기 안성시', '전남 순천시',\\n       '경기 이천시', '경기 광주시', '경기 의정부시', '경기 포천시', '경기 양주시', '경기 파주시',\\n       '경기 고양시', '서울 송파구', '충북 옥천군', '경기 부천시', '경기 광명시', '경기 남양주시',\\n       '경기 안산시', '경기 오산시', '인천 서구', '경기 과천시', '경남 김해시', '경기 의왕시',\\n       '제주 서귀포시', '전남 여수시', '제주 제주시', '부산 금정구', '경북 구미시', '광주 서구',\\n       '충남 아산시', '부산 강서구', '경남 양산시', '경남 창원시', '강원 양구군', '충북 충주시',\\n       '경남 통영시', '부산 사하구', '대구 남구', '경기 구리시', '강원 태백시', '서울 동대문구',\\n       '충북 청주시', '대구 북구', '서울 성동구', '서울 광진구', '서울 성북구', '서울 강북구',\"}, vector=None, shard_key=None)]"
      ]
     },
     "execution_count": 324,
     "metadata": {},
     "output_type": "execute_result"
    }
   ],
   "source": [
    "# add filter & score threshold\n",
    "\n",
    "client.search(\n",
    "    collection_name=\"sample\",\n",
    "    query_vector=new_rule(),\n",
    "    query_filter=context_filter,\n",
    "    score_threshold = 0.01\n",
    ")"
   ]
  },
  {
   "cell_type": "code",
   "execution_count": 325,
   "metadata": {},
   "outputs": [],
   "source": [
    "result = client.search(\n",
    "    collection_name=\"sample\",\n",
    "    query_vector=new_rule(),\n",
    "    query_filter=code_rule_filter\n",
    ")"
   ]
  },
  {
   "cell_type": "code",
   "execution_count": 326,
   "metadata": {},
   "outputs": [
    {
     "data": {
      "text/plain": [
       "[(Document(page_content=\"This bar graph illustrates the top industries by sales in Dongnae-gu, Busan, based on the provided credit card data.\\nEach bar represents a different type of business, and the height of the bar indicates the total sales amount (in Korean Won, KRW) generated by that industry.\\nThe x-axis denotes the type of business, while the y-axis represents the total sales amount.\\n\\nyou are a korean translator who lived in Korea for many years and knows well about korea's region and district name.\\nPlease translate the following Korean question to English, but do not translate any proper nouns such as names of places, people, or specific terms. Leave those in Korean and include them in single quotes in the English translation.\\n* example1\\nkorean question:서초동에서 가장 비싼 동네는 어디야?\\nenglish translation: which city is the most expensive in 서초동?\\n* example2\\nkorean question:서울에 왜 가고싶어 ?\\nenglish translation: why do you want to go to 서울?\\n* example3\\nkorean question:맥도날드 언제 갈꺼야?\\nenglish translation: when are you going to go to 맥도날드?\\n* example4\\nkorean question:한국에 마지막으로 간게 언제야?\\nenglish translation: when is the last time you visited 한국?\\n\\nyou are a korean translator who lived in Korea for many years and knows well about korea's region and district name.\\n\\n[context]\\nAnalysis Report:\\nThe line chart above illustrates the monthly sales trends of different card companies in 2017. \\nFrom the chart, we can observe the fluctuations in sales amounts over the months.\\n\\n[Card Company A]: Sales remained relatively stable throughout the year, with a slight increase in the middle months.\\n[Card Company B]: Sales peaked in March, dipped in April, then gradually increased until September before declining again.\\n[Card Company C]: Sales were highest in January, then experienced a sharp decline in February and remained relatively low for the rest of the year.\\n[Card Company D]: Sales showed a steady increase from January to May, followed by a slight decrease in June, and then remained stable for the rest of the year.\\n[Card Company E]: Sales were highest in May, experienced a dip in June, and then gradually increased until October before declining again.\\n\\nOverall, Card Company B experienced the most significant fluctuations in sales throughout the year, while the other companies showed relatively stable trends.\", metadata={'filter': 'context', '_id': 8, '_collection_name': 'sample'}),\n",
       "  0.4558275),\n",
       " (Document(page_content='Draw a bar graph of the industries that made the most sales in Dongnae-gu, Busan.\\n부산의 동래구 중 많은 매출을 올린 업종을 막대그래프로 그려 달라\\n[context]의 내용을 번역해라.\\ntranslate the following text to english considering the [context] above\\nthe sentence is \\'2017년에 카드사의 월별 매출 동향을 알려줘?\\'\\n\"In 2017, can you tell me the monthly sales trends of the \\'카드사\\'?\"', metadata={'filter': 'task', '_id': 11, '_collection_name': 'sample'}),\n",
       "  0.4052662),\n",
       " (Document(page_content=\"7. if the question is related to comparing data inbetween times, you should make a line chart.\\n\\n8. when making a chart, if your maximum values is larger than 10000, you should format your y-ticks starting from 1. and you must mention your number format is ten thousand.\\n\\nfor example, if you have maximum value of 55000, the highest y-tick you have should be noted as 5.5.\\n\\n9. when making a chart, your xtick should include years on the text only if your x data covers more than 1 year of time range. for the same reason, your xtick should compare months on the text only if your x data covers more than 1 month of time range.\\n\\n10. if the question asks you about specific time range, you need to filter that time range.\\n\\nyour analysis on the variable 'result' should contain description about the chart you mentioned. you could compare the datas by time or inbetween two different values. it depends on how you grouped the data on your code. you need to create codes for analysis\\n* analysis example 1\\nthis graph compares the sales amount between top 10 companies on 2013. company recorded largest sales volume among others. this value is 25% higher compared to the average of other 9 companines.\\n\\n* analysis example 2\\nthis graph shows the ratio of the sales amount on company b on time sequence from the data from year 2023. company b's sale recored the highest on 9 to 12 pm which takes up to 25% of the sales volume. on the other hand, the sales on 6 to 9 am was the lowest which was 5 percent.\", metadata={'filter': 'code_rule', '_id': 10, '_collection_name': 'sample'}),\n",
       "  0.36036295),\n",
       " (Document(page_content=\"0   store_id          int64  \\n 1   card_id           int64  \\n 2   card_company      object \\n 3   transacted_date   object \\n 4   transacted_time   object \\n 5   installment_term  int64  \\n 6   region            object \\n 7   type_of_business  object \\n 8   amount            float64\\n아래는 각 컬럼의 추가정인 정보이다.\\n날짜 컬럼는 YYYY-MM-DD 형식이다.\\n시간 컬럼는 HH:MM 형식이다.\\n지역 컬럼의 값들은 아래와 같다.\\narray(['부산 동래구', '서울 종로구', '대구 수성구', '경기 용인시', '경기 안양시', '경기 수원시',\\n       '서울 마포구', '부산 부산진구', '서울 중랑구', '서울 용산구', '전남 목포시', '서울 동작구',\\n       '경북 경주시', '인천 계양구', '서울 강서구', '경기 성남시', '서울 영등포구', '서울 서대문구',\\n       '서울 강남구', '서울 은평구', '서울 구로구', '서울 서초구', '서울 중구', '경기 시흥시',\\n       '서울 양천구', '강원 강릉시', '서울 관악구', '인천 남구', '인천 동구', '충북 제천시', '인천 남동구',\\n       '인천 연수구', '인천 부평구', '경기 화성시', '경기 평택시', '경기 안성시', '전남 순천시',\\n       '경기 이천시', '경기 광주시', '경기 의정부시', '경기 포천시', '경기 양주시', '경기 파주시',\\n       '경기 고양시', '서울 송파구', '충북 옥천군', '경기 부천시', '경기 광명시', '경기 남양주시',\\n       '경기 안산시', '경기 오산시', '인천 서구', '경기 과천시', '경남 김해시', '경기 의왕시',\\n       '제주 서귀포시', '전남 여수시', '제주 제주시', '부산 금정구', '경북 구미시', '광주 서구',\\n       '충남 아산시', '부산 강서구', '경남 양산시', '경남 창원시', '강원 양구군', '충북 충주시',\\n       '경남 통영시', '부산 사하구', '대구 남구', '경기 구리시', '강원 태백시', '서울 동대문구',\\n       '충북 청주시', '대구 북구', '서울 성동구', '서울 광진구', '서울 성북구', '서울 강북구',\", metadata={'filter': 'context', '_id': 5, '_collection_name': 'sample'}),\n",
       "  0.32764828)]"
      ]
     },
     "execution_count": 326,
     "metadata": {},
     "output_type": "execute_result"
    }
   ],
   "source": [
    "# Measure performance by similarity score\n",
    "\n",
    "query = \"상권분석\"\n",
    "found_docs = vec.similarity_search_with_score(query)\n",
    "found_docs"
   ]
  },
  {
   "cell_type": "code",
   "execution_count": 327,
   "metadata": {},
   "outputs": [
    {
     "data": {
      "text/plain": [
       "[(Document(page_content=\"This bar graph illustrates the top industries by sales in Dongnae-gu, Busan, based on the provided credit card data.\\nEach bar represents a different type of business, and the height of the bar indicates the total sales amount (in Korean Won, KRW) generated by that industry.\\nThe x-axis denotes the type of business, while the y-axis represents the total sales amount.\\n\\nyou are a korean translator who lived in Korea for many years and knows well about korea's region and district name.\\nPlease translate the following Korean question to English, but do not translate any proper nouns such as names of places, people, or specific terms. Leave those in Korean and include them in single quotes in the English translation.\\n* example1\\nkorean question:서초동에서 가장 비싼 동네는 어디야?\\nenglish translation: which city is the most expensive in 서초동?\\n* example2\\nkorean question:서울에 왜 가고싶어 ?\\nenglish translation: why do you want to go to 서울?\\n* example3\\nkorean question:맥도날드 언제 갈꺼야?\\nenglish translation: when are you going to go to 맥도날드?\\n* example4\\nkorean question:한국에 마지막으로 간게 언제야?\\nenglish translation: when is the last time you visited 한국?\\n\\nyou are a korean translator who lived in Korea for many years and knows well about korea's region and district name.\\n\\n[context]\\nAnalysis Report:\\nThe line chart above illustrates the monthly sales trends of different card companies in 2017. \\nFrom the chart, we can observe the fluctuations in sales amounts over the months.\\n\\n[Card Company A]: Sales remained relatively stable throughout the year, with a slight increase in the middle months.\\n[Card Company B]: Sales peaked in March, dipped in April, then gradually increased until September before declining again.\\n[Card Company C]: Sales were highest in January, then experienced a sharp decline in February and remained relatively low for the rest of the year.\\n[Card Company D]: Sales showed a steady increase from January to May, followed by a slight decrease in June, and then remained stable for the rest of the year.\\n[Card Company E]: Sales were highest in May, experienced a dip in June, and then gradually increased until October before declining again.\\n\\nOverall, Card Company B experienced the most significant fluctuations in sales throughout the year, while the other companies showed relatively stable trends.\", metadata={'filter': 'context', '_id': 8, '_collection_name': 'sample'}),\n",
       "  0.4558275),\n",
       " (Document(page_content=\"0   store_id          int64  \\n 1   card_id           int64  \\n 2   card_company      object \\n 3   transacted_date   object \\n 4   transacted_time   object \\n 5   installment_term  int64  \\n 6   region            object \\n 7   type_of_business  object \\n 8   amount            float64\\n아래는 각 컬럼의 추가정인 정보이다.\\n날짜 컬럼는 YYYY-MM-DD 형식이다.\\n시간 컬럼는 HH:MM 형식이다.\\n지역 컬럼의 값들은 아래와 같다.\\narray(['부산 동래구', '서울 종로구', '대구 수성구', '경기 용인시', '경기 안양시', '경기 수원시',\\n       '서울 마포구', '부산 부산진구', '서울 중랑구', '서울 용산구', '전남 목포시', '서울 동작구',\\n       '경북 경주시', '인천 계양구', '서울 강서구', '경기 성남시', '서울 영등포구', '서울 서대문구',\\n       '서울 강남구', '서울 은평구', '서울 구로구', '서울 서초구', '서울 중구', '경기 시흥시',\\n       '서울 양천구', '강원 강릉시', '서울 관악구', '인천 남구', '인천 동구', '충북 제천시', '인천 남동구',\\n       '인천 연수구', '인천 부평구', '경기 화성시', '경기 평택시', '경기 안성시', '전남 순천시',\\n       '경기 이천시', '경기 광주시', '경기 의정부시', '경기 포천시', '경기 양주시', '경기 파주시',\\n       '경기 고양시', '서울 송파구', '충북 옥천군', '경기 부천시', '경기 광명시', '경기 남양주시',\\n       '경기 안산시', '경기 오산시', '인천 서구', '경기 과천시', '경남 김해시', '경기 의왕시',\\n       '제주 서귀포시', '전남 여수시', '제주 제주시', '부산 금정구', '경북 구미시', '광주 서구',\\n       '충남 아산시', '부산 강서구', '경남 양산시', '경남 창원시', '강원 양구군', '충북 충주시',\\n       '경남 통영시', '부산 사하구', '대구 남구', '경기 구리시', '강원 태백시', '서울 동대문구',\\n       '충북 청주시', '대구 북구', '서울 성동구', '서울 광진구', '서울 성북구', '서울 강북구',\", metadata={'filter': 'context', '_id': 5, '_collection_name': 'sample'}),\n",
       "  0.32764828),\n",
       " (Document(page_content='본 데이터는 신용카드 데이터이다.\\n데이터에 관한 정보는 아래와 같다.\\n\\n #   Column            Dtype  \\n\\n---  ------            -----', metadata={'filter': 'context', '_id': 4, '_collection_name': 'sample'}),\n",
       "  0.32439354),\n",
       " (Document(page_content=\"0   store_id          int64  \\n 1   card_id           int64  \\n 2   card_company      object \\n 3   transacted_date   object \\n 4   transacted_time   object \\n 5   installment_term  int64  \\n 6   region            object \\n 7   type_of_business  object \\n 8   amount            float64\\nBelow are additional details about each column.\\nDate columns are in the format YYYY-MM-DD.\\nTime columns are in the format HH:MM.\\nThe values \\u200b\\u200bin the region column are as follows.\\narray(['부산 동래구', '서울 종로구', '대구 수성구', '경기 용인시', '경기 안양시', '경기 수원시',\\n       '서울 마포구', '부산 부산진구', '서울 중랑구', '서울 용산구', '전남 목포시', '서울 동작구',\\n       '경북 경주시', '인천 계양구', '서울 강서구', '경기 성남시', '서울 영등포구', '서울 서대문구',\\n       '서울 강남구', '서울 은평구', '서울 구로구', '서울 서초구', '서울 중구', '경기 시흥시',\\n       '서울 양천구', '강원 강릉시', '서울 관악구', '인천 남구', '인천 동구', '충북 제천시', '인천 남동구',\\n       '인천 연수구', '인천 부평구', '경기 화성시', '경기 평택시', '경기 안성시', '전남 순천시',\\n       '경기 이천시', '경기 광주시', '경기 의정부시', '경기 포천시', '경기 양주시', '경기 파주시',\\n       '경기 고양시', '서울 송파구', '충북 옥천군', '경기 부천시', '경기 광명시', '경기 남양주시',\\n       '경기 안산시', '경기 오산시', '인천 서구', '경기 과천시', '경남 김해시', '경기 의왕시',\\n       '제주 서귀포시', '전남 여수시', '제주 제주시', '부산 금정구', '경북 구미시', '광주 서구',\\n       '충남 아산시', '부산 강서구', '경남 양산시', '경남 창원시', '강원 양구군', '충북 충주시',\\n       '경남 통영시', '부산 사하구', '대구 남구', '경기 구리시', '강원 태백시', '서울 동대문구',\\n       '충북 청주시', '대구 북구', '서울 성동구', '서울 광진구', '서울 성북구', '서울 강북구',\", metadata={'filter': 'context', '_id': 1, '_collection_name': 'sample'}),\n",
       "  0.31166044)]"
      ]
     },
     "execution_count": 327,
     "metadata": {},
     "output_type": "execute_result"
    }
   ],
   "source": [
    "# Measure performance by similarity score by filter\n",
    "\n",
    "query = \"상권분석\"\n",
    "found_docs_2 = vec.similarity_search_with_score(query\n",
    "                                                , filter=context_filter)\n",
    "found_docs_2"
   ]
  },
  {
   "cell_type": "markdown",
   "metadata": {},
   "source": [
    "##### **3. Qdrant retriever**"
   ]
  },
  {
   "cell_type": "code",
   "execution_count": 216,
   "metadata": {},
   "outputs": [],
   "source": [
    "# model definition TBC\n",
    "\n",
    "def load_llm():\n",
    "    llm = OpenAI(openai_api_key= config['OPENAI_API_KEY'])\n",
    "    #llm = CTransformers(\n",
    "        #model = \"TheBloke/Llama-2-7B-Chat-GGML\",\n",
    "        #model_type=\"llama\",\n",
    "        #temperature = 0.2)\n",
    "    return llm"
   ]
  },
  {
   "cell_type": "code",
   "execution_count": 292,
   "metadata": {},
   "outputs": [],
   "source": [
    "# plug the vector store to your retrieval chain\n",
    "\n",
    "from langchain.chains import RetrievalQA, VectorDBQA\n",
    "from langchain_openai import OpenAI\n",
    "\n",
    "# Create a question-answering instance\n",
    "qa = RetrievalQA.from_chain_type(\n",
    "    llm=load_llm(),\n",
    "    chain_type=\"stuff\",\n",
    "    retriever=vec.as_retriever(),\n",
    "    return_source_documents=False,\n",
    "    #chain_type_kwargs={'prompt': prompt}\n",
    "    )"
   ]
  },
  {
   "cell_type": "code",
   "execution_count": 328,
   "metadata": {},
   "outputs": [
    {
     "name": "stdout",
     "output_type": "stream",
     "text": [
      "{'query': '번역하지 않는 값은 무엇인가?', 'result': ' \"부산 동래구\" 같은 데이터의 값들은 번역을 하지 않고 원본값을 유지한다.'}\n"
     ]
    }
   ],
   "source": [
    "#sample\n",
    "query_1 = \"번역하지 않는 값은 무엇인가?\"\n",
    "response = qa.invoke(query_1)\n",
    "print(response)"
   ]
  },
  {
   "cell_type": "code",
   "execution_count": 289,
   "metadata": {},
   "outputs": [
    {
     "name": "stdout",
     "output_type": "stream",
     "text": [
      "{'query': '상권분석에 필요한 데이터를 한국어로 설명해줘', 'result': '\\n이 프로젝트는 한국의 지역별 데이터를 활용하여 상권 분석을 하는 것을 목표로 합니다. 데이터는 신용카드 데이터로, 각 지역의 업종별 매출을 나타내는 바 그래프와 카드 회사별 2017년 매출 추이를 나타내는 선 그래프가 포함됩니다. 또한, 데이터를 토대로 시간대별 업종별 매출 비교를 할 수 있습니다. 프로젝트 결과물로는 각 지역의 매출 상위 10개 업종을 비교하는 바 그래프와, 각 카드 회사의 매출 추이를 비교하는 선 그래프가 포함됩니다. 모든 코드는 파이썬으로 작성되며, 결과물로는 그래프와 설명이'}\n"
     ]
    }
   ],
   "source": [
    "#sample\n",
    "query_2 = \"상권분석에 필요한 데이터를 한국어로 설명해줘\"\n",
    "response = qa.invoke(query_2)\n",
    "print(response)"
   ]
  },
  {
   "cell_type": "code",
   "execution_count": null,
   "metadata": {},
   "outputs": [],
   "source": []
  },
  {
   "cell_type": "code",
   "execution_count": null,
   "metadata": {},
   "outputs": [],
   "source": []
  }
 ],
 "metadata": {
  "kernelspec": {
   "display_name": "Python 3",
   "language": "python",
   "name": "python3"
  },
  "language_info": {
   "codemirror_mode": {
    "name": "ipython",
    "version": 3
   },
   "file_extension": ".py",
   "mimetype": "text/x-python",
   "name": "python",
   "nbconvert_exporter": "python",
   "pygments_lexer": "ipython3",
   "version": "3.12.2"
  }
 },
 "nbformat": 4,
 "nbformat_minor": 2
}
