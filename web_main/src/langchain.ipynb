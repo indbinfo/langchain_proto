{
 "cells": [
  {
   "cell_type": "code",
   "execution_count": 79,
   "metadata": {},
   "outputs": [],
   "source": [
    "import os\n",
    "from langchain.prompts.prompt import PromptTemplate\n",
    "from langchain_core.output_parsers import StrOutputParser\n",
    "from model.load_model import OllamaModelLoader"
   ]
  },
  {
   "cell_type": "code",
   "execution_count": null,
   "metadata": {},
   "outputs": [],
   "source": [
    "template_path = \"/home/prompt_eng/langchain/langchain_proto/web_main/data/template\"\n",
    "kr_eng_template_file = \"kr-eng_template.txt\""
   ]
  },
  {
   "cell_type": "code",
   "execution_count": null,
   "metadata": {},
   "outputs": [],
   "source": [
    "with open(os.path.join(template_path,kr_eng_template_file))as f:\n",
    "    template = f.read()"
   ]
  },
  {
   "cell_type": "code",
   "execution_count": null,
   "metadata": {},
   "outputs": [],
   "source": [
    "template"
   ]
  },
  {
   "cell_type": "code",
   "execution_count": 97,
   "metadata": {},
   "outputs": [],
   "source": [
    "user_prompt = \"서울에서 법인카드 비율이 가장 낮은 도시는 어디야?\"\n",
    "context = \"\""
   ]
  },
  {
   "cell_type": "markdown",
   "metadata": {},
   "source": [
    "context ->qdrant에서 load"
   ]
  },
  {
   "cell_type": "code",
   "execution_count": null,
   "metadata": {},
   "outputs": [],
   "source": [
    "prompt = PromptTemplate(\n",
    "    template=template, input_variables=[\"context\", \"user_prompt\"]\n",
    ")"
   ]
  },
  {
   "cell_type": "code",
   "execution_count": 98,
   "metadata": {},
   "outputs": [
    {
     "ename": "KeyError",
     "evalue": "'input_variables'",
     "output_type": "error",
     "traceback": [
      "\u001b[0;31m---------------------------------------------------------------------------\u001b[0m",
      "\u001b[0;31mKeyError\u001b[0m                                  Traceback (most recent call last)",
      "Cell \u001b[0;32mIn[98], line 1\u001b[0m\n\u001b[0;32m----> 1\u001b[0m prompt \u001b[38;5;241m=\u001b[39m \u001b[43mPromptTemplate\u001b[49m\u001b[43m(\u001b[49m\n\u001b[1;32m      2\u001b[0m \u001b[43m    \u001b[49m\u001b[43mtemplate\u001b[49m\u001b[38;5;241;43m=\u001b[39;49m\u001b[43mtemplate\u001b[49m\u001b[43m)\u001b[49m\n",
      "File \u001b[0;32m/usr/local/lib/python3.11/site-packages/langchain_core/load/serializable.py:120\u001b[0m, in \u001b[0;36mSerializable.__init__\u001b[0;34m(self, **kwargs)\u001b[0m\n\u001b[1;32m    119\u001b[0m \u001b[38;5;28;01mdef\u001b[39;00m \u001b[38;5;21m__init__\u001b[39m(\u001b[38;5;28mself\u001b[39m, \u001b[38;5;241m*\u001b[39m\u001b[38;5;241m*\u001b[39mkwargs: Any) \u001b[38;5;241m-\u001b[39m\u001b[38;5;241m>\u001b[39m \u001b[38;5;28;01mNone\u001b[39;00m:\n\u001b[0;32m--> 120\u001b[0m     \u001b[38;5;28;43msuper\u001b[39;49m\u001b[43m(\u001b[49m\u001b[43m)\u001b[49m\u001b[38;5;241;43m.\u001b[39;49m\u001b[38;5;21;43m__init__\u001b[39;49m\u001b[43m(\u001b[49m\u001b[38;5;241;43m*\u001b[39;49m\u001b[38;5;241;43m*\u001b[39;49m\u001b[43mkwargs\u001b[49m\u001b[43m)\u001b[49m\n\u001b[1;32m    121\u001b[0m     \u001b[38;5;28mself\u001b[39m\u001b[38;5;241m.\u001b[39m_lc_kwargs \u001b[38;5;241m=\u001b[39m kwargs\n",
      "File \u001b[0;32m/usr/local/lib/python3.11/site-packages/pydantic/v1/main.py:339\u001b[0m, in \u001b[0;36mBaseModel.__init__\u001b[0;34m(__pydantic_self__, **data)\u001b[0m\n\u001b[1;32m    333\u001b[0m \u001b[38;5;250m\u001b[39m\u001b[38;5;124;03m\"\"\"\u001b[39;00m\n\u001b[1;32m    334\u001b[0m \u001b[38;5;124;03mCreate a new model by parsing and validating input data from keyword arguments.\u001b[39;00m\n\u001b[1;32m    335\u001b[0m \n\u001b[1;32m    336\u001b[0m \u001b[38;5;124;03mRaises ValidationError if the input data cannot be parsed to form a valid model.\u001b[39;00m\n\u001b[1;32m    337\u001b[0m \u001b[38;5;124;03m\"\"\"\u001b[39;00m\n\u001b[1;32m    338\u001b[0m \u001b[38;5;66;03m# Uses something other than `self` the first arg to allow \"self\" as a settable attribute\u001b[39;00m\n\u001b[0;32m--> 339\u001b[0m values, fields_set, validation_error \u001b[38;5;241m=\u001b[39m \u001b[43mvalidate_model\u001b[49m\u001b[43m(\u001b[49m\u001b[43m__pydantic_self__\u001b[49m\u001b[38;5;241;43m.\u001b[39;49m\u001b[38;5;18;43m__class__\u001b[39;49m\u001b[43m,\u001b[49m\u001b[43m \u001b[49m\u001b[43mdata\u001b[49m\u001b[43m)\u001b[49m\n\u001b[1;32m    340\u001b[0m \u001b[38;5;28;01mif\u001b[39;00m validation_error:\n\u001b[1;32m    341\u001b[0m     \u001b[38;5;28;01mraise\u001b[39;00m validation_error\n",
      "File \u001b[0;32m/usr/local/lib/python3.11/site-packages/pydantic/v1/main.py:1100\u001b[0m, in \u001b[0;36mvalidate_model\u001b[0;34m(model, input_data, cls)\u001b[0m\n\u001b[1;32m   1098\u001b[0m     \u001b[38;5;28;01mcontinue\u001b[39;00m\n\u001b[1;32m   1099\u001b[0m \u001b[38;5;28;01mtry\u001b[39;00m:\n\u001b[0;32m-> 1100\u001b[0m     values \u001b[38;5;241m=\u001b[39m \u001b[43mvalidator\u001b[49m\u001b[43m(\u001b[49m\u001b[43mcls_\u001b[49m\u001b[43m,\u001b[49m\u001b[43m \u001b[49m\u001b[43mvalues\u001b[49m\u001b[43m)\u001b[49m\n\u001b[1;32m   1101\u001b[0m \u001b[38;5;28;01mexcept\u001b[39;00m (\u001b[38;5;167;01mValueError\u001b[39;00m, \u001b[38;5;167;01mTypeError\u001b[39;00m, \u001b[38;5;167;01mAssertionError\u001b[39;00m) \u001b[38;5;28;01mas\u001b[39;00m exc:\n\u001b[1;32m   1102\u001b[0m     errors\u001b[38;5;241m.\u001b[39mappend(ErrorWrapper(exc, loc\u001b[38;5;241m=\u001b[39mROOT_KEY))\n",
      "File \u001b[0;32m/usr/local/lib/python3.11/site-packages/langchain_core/prompts/base.py:127\u001b[0m, in \u001b[0;36mBasePromptTemplate.validate_variable_names\u001b[0;34m(cls, values)\u001b[0m\n\u001b[1;32m    124\u001b[0m \u001b[38;5;129m@root_validator\u001b[39m()\n\u001b[1;32m    125\u001b[0m \u001b[38;5;28;01mdef\u001b[39;00m \u001b[38;5;21mvalidate_variable_names\u001b[39m(\u001b[38;5;28mcls\u001b[39m, values: Dict) \u001b[38;5;241m-\u001b[39m\u001b[38;5;241m>\u001b[39m Dict:\n\u001b[1;32m    126\u001b[0m \u001b[38;5;250m    \u001b[39m\u001b[38;5;124;03m\"\"\"Validate variable names do not include restricted names.\"\"\"\u001b[39;00m\n\u001b[0;32m--> 127\u001b[0m     \u001b[38;5;28;01mif\u001b[39;00m \u001b[38;5;124m\"\u001b[39m\u001b[38;5;124mstop\u001b[39m\u001b[38;5;124m\"\u001b[39m \u001b[38;5;129;01min\u001b[39;00m \u001b[43mvalues\u001b[49m\u001b[43m[\u001b[49m\u001b[38;5;124;43m\"\u001b[39;49m\u001b[38;5;124;43minput_variables\u001b[39;49m\u001b[38;5;124;43m\"\u001b[39;49m\u001b[43m]\u001b[49m:\n\u001b[1;32m    128\u001b[0m         \u001b[38;5;28;01mraise\u001b[39;00m \u001b[38;5;167;01mValueError\u001b[39;00m(\n\u001b[1;32m    129\u001b[0m             \u001b[38;5;124m\"\u001b[39m\u001b[38;5;124mCannot have an input variable named \u001b[39m\u001b[38;5;124m'\u001b[39m\u001b[38;5;124mstop\u001b[39m\u001b[38;5;124m'\u001b[39m\u001b[38;5;124m, as it is used internally,\u001b[39m\u001b[38;5;124m\"\u001b[39m\n\u001b[1;32m    130\u001b[0m             \u001b[38;5;124m\"\u001b[39m\u001b[38;5;124m please rename.\u001b[39m\u001b[38;5;124m\"\u001b[39m\n\u001b[1;32m    131\u001b[0m         )\n\u001b[1;32m    132\u001b[0m     \u001b[38;5;28;01mif\u001b[39;00m \u001b[38;5;124m\"\u001b[39m\u001b[38;5;124mstop\u001b[39m\u001b[38;5;124m\"\u001b[39m \u001b[38;5;129;01min\u001b[39;00m values[\u001b[38;5;124m\"\u001b[39m\u001b[38;5;124mpartial_variables\u001b[39m\u001b[38;5;124m\"\u001b[39m]:\n",
      "\u001b[0;31mKeyError\u001b[0m: 'input_variables'"
     ]
    }
   ],
   "source": [
    "prompt = PromptTemplate(\n",
    "    template=template, input_variables=[\"context\", \"user_prompt\"]\n",
    ")"
   ]
  },
  {
   "cell_type": "code",
   "execution_count": null,
   "metadata": {},
   "outputs": [],
   "source": [
    "prompt"
   ]
  },
  {
   "cell_type": "code",
   "execution_count": 80,
   "metadata": {},
   "outputs": [],
   "source": [
    "loader = OllamaModelLoader(model_id = \"mistral\",\n",
    "                        pt_task = \"kr-eng\")\n",
    "llm = loader.load_model()"
   ]
  },
  {
   "cell_type": "code",
   "execution_count": 81,
   "metadata": {},
   "outputs": [],
   "source": [
    "llm = loader.load_model()"
   ]
  },
  {
   "cell_type": "code",
   "execution_count": null,
   "metadata": {},
   "outputs": [],
   "source": [
    "output_parser = StrOutputParser()"
   ]
  },
  {
   "cell_type": "code",
   "execution_count": null,
   "metadata": {},
   "outputs": [],
   "source": [
    "chain = prompt | llm | output_parser"
   ]
  },
  {
   "cell_type": "code",
   "execution_count": null,
   "metadata": {},
   "outputs": [],
   "source": [
    "chain.stream()"
   ]
  },
  {
   "cell_type": "code",
   "execution_count": null,
   "metadata": {},
   "outputs": [],
   "source": [
    "for chunk in chain.stream({\"context\":context, \"task\":user_prompt}):\n",
    "    print(chunk, end=\"\", flush=True)"
   ]
  },
  {
   "cell_type": "code",
   "execution_count": null,
   "metadata": {},
   "outputs": [],
   "source": [
    "async for chunk in chain.astream({\"context\":context, \"task\":user_prompt}):\n",
    "    print(chunk, end=\"\", flush=True)"
   ]
  },
  {
   "cell_type": "code",
   "execution_count": null,
   "metadata": {},
   "outputs": [],
   "source": []
  },
  {
   "cell_type": "code",
   "execution_count": 82,
   "metadata": {},
   "outputs": [],
   "source": [
    "from operator import itemgetter\n",
    "from langchain.chat_models import ChatOpenAI\n",
    "from langchain.prompts import PromptTemplate\n",
    "from langchain.schema import StrOutputParser"
   ]
  },
  {
   "cell_type": "code",
   "execution_count": 83,
   "metadata": {},
   "outputs": [],
   "source": [
    "prompt1 = PromptTemplate.from_template(\"what is the famous tour place in {city}? Tell me the name of the place only without additional comments.\")\n",
    "prompt2 = PromptTemplate.from_template(\"How can I get {place} by {transport}?\")\n"
   ]
  },
  {
   "cell_type": "code",
   "execution_count": null,
   "metadata": {},
   "outputs": [],
   "source": []
  },
  {
   "cell_type": "code",
   "execution_count": 95,
   "metadata": {},
   "outputs": [
    {
     "ename": "NameError",
     "evalue": "name 'collable' is not defined",
     "output_type": "error",
     "traceback": [
      "\u001b[0;31m---------------------------------------------------------------------------\u001b[0m",
      "\u001b[0;31mNameError\u001b[0m                                 Traceback (most recent call last)",
      "Cell \u001b[0;32mIn[95], line 1\u001b[0m\n\u001b[0;32m----> 1\u001b[0m \u001b[43mcollable\u001b[49m(itemgetter(\u001b[38;5;124m\"\u001b[39m\u001b[38;5;124mtransport\u001b[39m\u001b[38;5;124m\"\u001b[39m))\n",
      "\u001b[0;31mNameError\u001b[0m: name 'collable' is not defined"
     ]
    }
   ],
   "source": [
    "collable(itemgetter(\"transport\"))"
   ]
  },
  {
   "cell_type": "code",
   "execution_count": 96,
   "metadata": {},
   "outputs": [
    {
     "name": "stdout",
     "output_type": "stream",
     "text": [
      " To visit the mentioned places in Seoul using the subway, you can follow the suggested itinerary below:\n",
      "\n",
      "1. Gyeongbokgung Palace: Line 1 (Orange Line) or Line 3 (Light Blue Line) to Gyeongbokgung Palace Station.\n",
      "2. Myeongdong: Line 4 (Green Line) or Line 2 (Red Line) to Myeongdong Station.\n",
      "3. Namsan Tower: Line 4 (Green Line) to Chungmroo Station, then transfer to Namsan Shuttle Bus (Namsan Cable Car is also an option).\n",
      "4. Insadong: Line 3 (Light Blue Line) or Line 2 (Red Line) to Jongno 3-ga Station, then transfer to Line 9 (Purple Line) to Anguk Station.\n",
      "5. Bukchon Hanok Village: Walk from Anguk Station (Line 3, Line 9) or Jongno 3-ga Station (Line 3, Line 2).\n",
      "6. Dongdaemun Market: Line 1 (Orange Line) or Line 4 (Green Line) to Dongdaemun History and Culture Park Station.\n",
      "7. Hongik University Area (Hongdae): Line 2 (Red Line) or Line 3 (Light Blue Line) to Hongik University Station.\n",
      "8. Lotte World: Line 2 (Red Line) or Line 7 (Brown Line) to Jamsil Station.\n",
      "9. Changdeokgung Palace: Line 3 (Light Blue Line) or Line 4 (Green Line) to Anguk Station, then transfer to Line 5 (Yellow Line) to Hyehwa Station, and finally walk or take a taxi.\n",
      "10. Namsan Park: Follow the instructions for Namsan Tower.\n",
      "11. Jamsil Sports Complex: Line 2 (Red Line) or Line 8 (Pink Line) to Sports Complex Station.\n",
      "12. Itaewon: Line 6 (Purple Line) or Line 2 (Red Line) to Itaewon Station.\n",
      "13. Hangang River Park: Line 9 (Purple Line) to Hangangjin Station or Line 1 (Orange Line) to Yongsan Station.\n",
      "14. Namiseom Island: Take a train to Chuncheon Station, then transfer to a bus bound for Namiseom Island.\n",
      "15. JSA Borne Scout Site (Demilitarized Zone): Take a train to Dorasan Station, then transfer to a tour bus for the DMZ tour.\n",
      "\n",
      "Keep in mind that some places, like Namiseom Island and the DMZ tour, may require additional transportation methods other than the subway. Additionally, check the subway map and the Korea Railroad Corporation website for the most up-to-date information on schedules and routes.\n"
     ]
    }
   ],
   "source": [
    "chain1 = prompt1 | llm\n",
    "chain2 = prompt2 | llm\n",
    "# chain = {\"place\":chain1,\"transport\":itemgetter(\"transport\")} | chain2\n",
    "chain = {\"place\":chain1,\"transport\":itemgetter('transport')} | chain2\n",
    "output = chain.invoke({\"city\": \"Seoul\", \"transport\": \"subway\"})\n",
    "print(output)"
   ]
  },
  {
   "cell_type": "code",
   "execution_count": 89,
   "metadata": {},
   "outputs": [
    {
     "data": {
      "text/plain": [
       "PromptTemplate(input_variables=['city'], template='what is the famous tour place in {city}? Tell me the name of the place only without additional comments.')\n",
       "| Ollama(model='mistral', repeat_penalty=1.0, temperature=1e-05, keep_alive=1)"
      ]
     },
     "execution_count": 89,
     "metadata": {},
     "output_type": "execute_result"
    }
   ],
   "source": [
    "chain1"
   ]
  },
  {
   "cell_type": "code",
   "execution_count": 92,
   "metadata": {},
   "outputs": [
    {
     "data": {
      "text/plain": [
       "operator.itemgetter('abc')"
      ]
     },
     "execution_count": 92,
     "metadata": {},
     "output_type": "execute_result"
    }
   ],
   "source": [
    "itemgetter(\"abc\")"
   ]
  },
  {
   "cell_type": "code",
   "execution_count": 86,
   "metadata": {},
   "outputs": [
    {
     "name": "stdout",
     "output_type": "stream",
     "text": [
      " To visit the mentioned places in Seoul using the subway, you can follow the suggested itinerary below:\n",
      "\n",
      "1. Gyeongbokgung Palace: Line 1 (Orange Line) or Line 3 (Light Blue Line) to Gyeongbokgung Palace Station.\n",
      "2. Myeongdong: Line 4 (Green Line) or Line 2 (Red Line) to Myeongdong Station.\n",
      "3. Namsan Tower: Line 4 (Green Line) to Chungmroo Station, then transfer to Namsan Shuttle Bus (Namsan Cable Car is also an option).\n",
      "4. Insadong: Line 3 (Light Blue Line) or Line 2 (Red Line) to Jongno 3-ga Station, then transfer to Line 9 (Purple Line) to Anguk Station.\n",
      "5. Bukchon Hanok Village: Walk from Anguk Station (Line 3, Line 9) or Jongno 3-ga Station (Line 3, Line 2).\n",
      "6. Dongdaemun Market: Line 1 (Orange Line) or Line 4 (Green Line) to Dongdaemun History and Culture Park Station.\n",
      "7. Hongik University Area (Hongdae): Line 2 (Red Line) or Line 3 (Light Blue Line) to Hongik University Station.\n",
      "8. Lotte World: Line 2 (Red Line) or Line 7 (Brown Line) to Jamsil Station.\n",
      "9. Changdeokgung Palace: Line 3 (Light Blue Line) or Line 4 (Green Line) to Anguk Station, then transfer to Line 5 (Yellow Line) to Hyehwa Station, and finally walk or take a taxi.\n",
      "10. Namsan Park: Follow the instructions for Namsan Tower.\n",
      "11. Jamsil Sports Complex: Line 2 (Red Line) or Line 8 (Pink Line) to Sports Complex Station.\n",
      "12. Itaewon: Line 6 (Purple Line) or Line 2 (Red Line) to Itaewon Station.\n",
      "13. Hangang River Park: Line 9 (Purple Line) to Hangangjin Station or Line 1 (Orange Line) to Yongsan Station.\n",
      "14. Namiseom Island: Take a train to Chuncheon Station, then transfer to a bus bound for Namiseom Island.\n",
      "15. JSA Borne Scout Site (Demilitarized Zone): Take a train to Dorasan Station, then transfer to a tour bus for the DMZ tour.\n",
      "\n",
      "Keep in mind that some places, like Namiseom Island and the DMZ tour, may require additional transportation methods other than the subway. Additionally, check the subway map and the Korea Railroad Corporation website for the most up-to-date information on schedules and routes."
     ]
    }
   ],
   "source": [
    "async for chunk in chain.astream({\"city\": \"Seoul\", \"transport\": \"subway\"}):\n",
    "    print(chunk, end=\"\", flush=True)"
   ]
  },
  {
   "cell_type": "code",
   "execution_count": null,
   "metadata": {},
   "outputs": [],
   "source": []
  }
 ],
 "metadata": {
  "kernelspec": {
   "display_name": "Python 3",
   "language": "python",
   "name": "python3"
  },
  "language_info": {
   "codemirror_mode": {
    "name": "ipython",
    "version": 3
   },
   "file_extension": ".py",
   "mimetype": "text/x-python",
   "name": "python",
   "nbconvert_exporter": "python",
   "pygments_lexer": "ipython3",
   "version": "3.11.3"
  },
  "vscode": {
   "interpreter": {
    "hash": "aee8b7b246df8f9039afb4144a1f6fd8d2ca17a180786b69acc140d282b71a49"
   }
  }
 },
 "nbformat": 4,
 "nbformat_minor": 2
}
